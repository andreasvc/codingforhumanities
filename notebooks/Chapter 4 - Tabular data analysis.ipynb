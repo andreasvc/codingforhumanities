{
 "cells": [
  {
   "cell_type": "markdown",
   "metadata": {},
   "source": [
    "# Chapter 5 - Tabular data analysis with Pandas\n",
    "\n",
    "## Popular movies\n",
    "\n",
    "We will work with a dataset of popular movies: https://perso.telecom-paristech.fr/eagan/class/igr204/data/film.csv\n",
    "\n",
    "Before you begin, run the code in this notebook to load the data and confirm that everything works. Go to the Cell menu, and press Run All."
   ]
  },
  {
   "cell_type": "code",
   "execution_count": 1,
   "metadata": {},
   "outputs": [
    {
     "name": "stdout",
     "output_type": "stream",
     "text": [
      "Year;Length;Title;Subject;Actor;Actress;Director;Popularity;Awards;*Image\r",
      "\r\n",
      "INT;INT;STRING;CAT;CAT;CAT;CAT;INT;BOOL;STRING\r",
      "\r\n",
      "1990;111;Tie Me Up! Tie Me Down!;Comedy;Banderas, Antonio;Abril, Victoria;Almod�var, Pedro;68;No;NicholasCage.png\r",
      "\r\n",
      "1991;113;High Heels;Comedy;Bos�, Miguel;Abril, Victoria;Almod�var, Pedro;68;No;NicholasCage.png\r",
      "\r\n",
      "1983;104;Dead Zone, The;Horror;Walken, Christopher;Adams, Brooke;Cronenberg, David;79;No;NicholasCage.png\r",
      "\r\n",
      "1979;122;Cuba;Action;Connery, Sean;Adams, Brooke;Lester, Richard;6;No;seanConnery.png\r",
      "\r\n",
      "1978;94;Days of Heaven;Drama;Gere, Richard;Adams, Brooke;Malick, Terrence;14;No;NicholasCage.png\r",
      "\r\n",
      "1983;140;Octopussy;Action;Moore, Roger;Adams, Maud;Glen, John;68;No;NicholasCage.png\r",
      "\r\n",
      "1984;101;Target Eagle;Action;Connors, Chuck;Adams, Maud;Loma, Jos� Antonio de la;14;No;NicholasCage.png\r",
      "\r\n",
      "1989;99;American Angels: Baptism of Blood, The;Drama;Bergen, Robert D.;Adams, Trudy;Sebastian, Beverly;28;No;NicholasCage.png\r",
      "\r\n"
     ]
    }
   ],
   "source": [
    "# Let's first look at the data format:\n",
    "# (BTW: \"head\" is a Linux/Mac command, on Windows you could look at the file with Notepad for example)\n",
    "!head data/film.csv"
   ]
  },
  {
   "cell_type": "markdown",
   "metadata": {},
   "source": [
    "Hmm ... there are a few issues:\n",
    "\n",
    "- It's called a **comma** separated value (csv) file, but this one is separated with semicolons.\n",
    "- Furthermore, the accents are wrong, they are probably encoded with latin1, which was used before UTF-8 became the default.\n",
    "- The first row contains the headers, which we want to use as labels. However, the second row contains types, and we don't want that to end up in our dataframe, so we skip this row.\n",
    "- The last column looks odd, Nicolas Cage was not in those movies. Let's drop it."
   ]
  },
  {
   "cell_type": "code",
   "execution_count": 2,
   "metadata": {},
   "outputs": [
    {
     "data": {
      "text/html": [
       "<div>\n",
       "<style scoped>\n",
       "    .dataframe tbody tr th:only-of-type {\n",
       "        vertical-align: middle;\n",
       "    }\n",
       "\n",
       "    .dataframe tbody tr th {\n",
       "        vertical-align: top;\n",
       "    }\n",
       "\n",
       "    .dataframe thead th {\n",
       "        text-align: right;\n",
       "    }\n",
       "</style>\n",
       "<table border=\"1\" class=\"dataframe\">\n",
       "  <thead>\n",
       "    <tr style=\"text-align: right;\">\n",
       "      <th></th>\n",
       "      <th>Year</th>\n",
       "      <th>Length</th>\n",
       "      <th>Title</th>\n",
       "      <th>Subject</th>\n",
       "      <th>Actor</th>\n",
       "      <th>Actress</th>\n",
       "      <th>Director</th>\n",
       "      <th>Popularity</th>\n",
       "      <th>Awards</th>\n",
       "    </tr>\n",
       "  </thead>\n",
       "  <tbody>\n",
       "    <tr>\n",
       "      <th>0</th>\n",
       "      <td>1990</td>\n",
       "      <td>111.0</td>\n",
       "      <td>Tie Me Up! Tie Me Down!</td>\n",
       "      <td>Comedy</td>\n",
       "      <td>Banderas, Antonio</td>\n",
       "      <td>Abril, Victoria</td>\n",
       "      <td>Almodóvar, Pedro</td>\n",
       "      <td>68.0</td>\n",
       "      <td>No</td>\n",
       "    </tr>\n",
       "    <tr>\n",
       "      <th>1</th>\n",
       "      <td>1991</td>\n",
       "      <td>113.0</td>\n",
       "      <td>High Heels</td>\n",
       "      <td>Comedy</td>\n",
       "      <td>Bosé, Miguel</td>\n",
       "      <td>Abril, Victoria</td>\n",
       "      <td>Almodóvar, Pedro</td>\n",
       "      <td>68.0</td>\n",
       "      <td>No</td>\n",
       "    </tr>\n",
       "    <tr>\n",
       "      <th>2</th>\n",
       "      <td>1983</td>\n",
       "      <td>104.0</td>\n",
       "      <td>Dead Zone, The</td>\n",
       "      <td>Horror</td>\n",
       "      <td>Walken, Christopher</td>\n",
       "      <td>Adams, Brooke</td>\n",
       "      <td>Cronenberg, David</td>\n",
       "      <td>79.0</td>\n",
       "      <td>No</td>\n",
       "    </tr>\n",
       "    <tr>\n",
       "      <th>3</th>\n",
       "      <td>1979</td>\n",
       "      <td>122.0</td>\n",
       "      <td>Cuba</td>\n",
       "      <td>Action</td>\n",
       "      <td>Connery, Sean</td>\n",
       "      <td>Adams, Brooke</td>\n",
       "      <td>Lester, Richard</td>\n",
       "      <td>6.0</td>\n",
       "      <td>No</td>\n",
       "    </tr>\n",
       "    <tr>\n",
       "      <th>4</th>\n",
       "      <td>1978</td>\n",
       "      <td>94.0</td>\n",
       "      <td>Days of Heaven</td>\n",
       "      <td>Drama</td>\n",
       "      <td>Gere, Richard</td>\n",
       "      <td>Adams, Brooke</td>\n",
       "      <td>Malick, Terrence</td>\n",
       "      <td>14.0</td>\n",
       "      <td>No</td>\n",
       "    </tr>\n",
       "  </tbody>\n",
       "</table>\n",
       "</div>"
      ],
      "text/plain": [
       "   Year  Length                    Title Subject                Actor  \\\n",
       "0  1990   111.0  Tie Me Up! Tie Me Down!  Comedy    Banderas, Antonio   \n",
       "1  1991   113.0               High Heels  Comedy         Bosé, Miguel   \n",
       "2  1983   104.0           Dead Zone, The  Horror  Walken, Christopher   \n",
       "3  1979   122.0                     Cuba  Action        Connery, Sean   \n",
       "4  1978    94.0           Days of Heaven   Drama        Gere, Richard   \n",
       "\n",
       "           Actress           Director  Popularity Awards  \n",
       "0  Abril, Victoria   Almodóvar, Pedro        68.0     No  \n",
       "1  Abril, Victoria   Almodóvar, Pedro        68.0     No  \n",
       "2    Adams, Brooke  Cronenberg, David        79.0     No  \n",
       "3    Adams, Brooke    Lester, Richard         6.0     No  \n",
       "4    Adams, Brooke   Malick, Terrence        14.0     No  "
      ]
     },
     "execution_count": 2,
     "metadata": {},
     "output_type": "execute_result"
    }
   ],
   "source": [
    "%matplotlib inline\n",
    "import pandas as pd\n",
    "import seaborn as sns\n",
    "df = pd.read_csv('data/film.csv',\n",
    "                 sep=';', encoding='latin1', skiprows=[1])\n",
    "df = df.drop(['*Image'], axis=1)\n",
    "df.head()"
   ]
  },
  {
   "cell_type": "code",
   "execution_count": 3,
   "metadata": {},
   "outputs": [
    {
     "data": {
      "text/plain": [
       "(1659, 9)"
      ]
     },
     "execution_count": 3,
     "metadata": {},
     "output_type": "execute_result"
    }
   ],
   "source": [
    "df.shape"
   ]
  },
  {
   "cell_type": "code",
   "execution_count": 4,
   "metadata": {},
   "outputs": [
    {
     "data": {
      "text/html": [
       "<div>\n",
       "<style scoped>\n",
       "    .dataframe tbody tr th:only-of-type {\n",
       "        vertical-align: middle;\n",
       "    }\n",
       "\n",
       "    .dataframe tbody tr th {\n",
       "        vertical-align: top;\n",
       "    }\n",
       "\n",
       "    .dataframe thead th {\n",
       "        text-align: right;\n",
       "    }\n",
       "</style>\n",
       "<table border=\"1\" class=\"dataframe\">\n",
       "  <thead>\n",
       "    <tr style=\"text-align: right;\">\n",
       "      <th></th>\n",
       "      <th>Year</th>\n",
       "      <th>Length</th>\n",
       "      <th>Popularity</th>\n",
       "    </tr>\n",
       "  </thead>\n",
       "  <tbody>\n",
       "    <tr>\n",
       "      <th>count</th>\n",
       "      <td>1659.000000</td>\n",
       "      <td>1592.000000</td>\n",
       "      <td>1653.000000</td>\n",
       "    </tr>\n",
       "    <tr>\n",
       "      <th>mean</th>\n",
       "      <td>1975.802893</td>\n",
       "      <td>105.179648</td>\n",
       "      <td>43.110103</td>\n",
       "    </tr>\n",
       "    <tr>\n",
       "      <th>std</th>\n",
       "      <td>17.057848</td>\n",
       "      <td>30.629501</td>\n",
       "      <td>26.747406</td>\n",
       "    </tr>\n",
       "    <tr>\n",
       "      <th>min</th>\n",
       "      <td>1920.000000</td>\n",
       "      <td>5.000000</td>\n",
       "      <td>0.000000</td>\n",
       "    </tr>\n",
       "    <tr>\n",
       "      <th>25%</th>\n",
       "      <td>1967.000000</td>\n",
       "      <td>90.000000</td>\n",
       "      <td>19.000000</td>\n",
       "    </tr>\n",
       "    <tr>\n",
       "      <th>50%</th>\n",
       "      <td>1983.000000</td>\n",
       "      <td>102.000000</td>\n",
       "      <td>43.000000</td>\n",
       "    </tr>\n",
       "    <tr>\n",
       "      <th>75%</th>\n",
       "      <td>1989.000000</td>\n",
       "      <td>116.000000</td>\n",
       "      <td>67.000000</td>\n",
       "    </tr>\n",
       "    <tr>\n",
       "      <th>max</th>\n",
       "      <td>1997.000000</td>\n",
       "      <td>450.000000</td>\n",
       "      <td>88.000000</td>\n",
       "    </tr>\n",
       "  </tbody>\n",
       "</table>\n",
       "</div>"
      ],
      "text/plain": [
       "              Year       Length   Popularity\n",
       "count  1659.000000  1592.000000  1653.000000\n",
       "mean   1975.802893   105.179648    43.110103\n",
       "std      17.057848    30.629501    26.747406\n",
       "min    1920.000000     5.000000     0.000000\n",
       "25%    1967.000000    90.000000    19.000000\n",
       "50%    1983.000000   102.000000    43.000000\n",
       "75%    1989.000000   116.000000    67.000000\n",
       "max    1997.000000   450.000000    88.000000"
      ]
     },
     "execution_count": 4,
     "metadata": {},
     "output_type": "execute_result"
    }
   ],
   "source": [
    "df.describe()"
   ]
  },
  {
   "cell_type": "markdown",
   "metadata": {},
   "source": [
    "# Questions\n",
    "\n",
    "For each question below, fill in the code to compute the answer. Each cell contains a template with the expected variable name and code that produces a wrong answer, but with the right type and format."
   ]
  },
  {
   "cell_type": "code",
   "execution_count": 5,
   "metadata": {},
   "outputs": [],
   "source": [
    "# Example:\n",
    "# 0. What is the most popular movie?\n",
    "# Template:\n",
    "example = df.head(1)\n",
    "# Replace with your code:\n",
    "example = df.nlargest(1, 'Popularity')"
   ]
  },
  {
   "cell_type": "code",
   "execution_count": 6,
   "metadata": {},
   "outputs": [
    {
     "data": {
      "text/html": [
       "<div>\n",
       "<style scoped>\n",
       "    .dataframe tbody tr th:only-of-type {\n",
       "        vertical-align: middle;\n",
       "    }\n",
       "\n",
       "    .dataframe tbody tr th {\n",
       "        vertical-align: top;\n",
       "    }\n",
       "\n",
       "    .dataframe thead th {\n",
       "        text-align: right;\n",
       "    }\n",
       "</style>\n",
       "<table border=\"1\" class=\"dataframe\">\n",
       "  <thead>\n",
       "    <tr style=\"text-align: right;\">\n",
       "      <th></th>\n",
       "      <th>Year</th>\n",
       "      <th>Length</th>\n",
       "      <th>Title</th>\n",
       "      <th>Subject</th>\n",
       "      <th>Actor</th>\n",
       "      <th>Actress</th>\n",
       "      <th>Director</th>\n",
       "      <th>Popularity</th>\n",
       "      <th>Awards</th>\n",
       "    </tr>\n",
       "  </thead>\n",
       "  <tbody>\n",
       "    <tr>\n",
       "      <th>27</th>\n",
       "      <td>1980</td>\n",
       "      <td>NaN</td>\n",
       "      <td>Happy Birthday to Me</td>\n",
       "      <td>Horror</td>\n",
       "      <td>Ford, Glenn</td>\n",
       "      <td>Anderson, Melissa Sue</td>\n",
       "      <td>Thompson, J. Lee</td>\n",
       "      <td>88.0</td>\n",
       "      <td>No</td>\n",
       "    </tr>\n",
       "  </tbody>\n",
       "</table>\n",
       "</div>"
      ],
      "text/plain": [
       "    Year  Length                 Title Subject        Actor  \\\n",
       "27  1980     NaN  Happy Birthday to Me  Horror  Ford, Glenn   \n",
       "\n",
       "                  Actress          Director  Popularity Awards  \n",
       "27  Anderson, Melissa Sue  Thompson, J. Lee        88.0     No  "
      ]
     },
     "execution_count": 6,
     "metadata": {},
     "output_type": "execute_result"
    }
   ],
   "source": [
    "# To show the result:\n",
    "example"
   ]
  },
  {
   "cell_type": "markdown",
   "metadata": {},
   "source": [
    "1. What is the longest movie? How long is it?"
   ]
  },
  {
   "cell_type": "code",
   "execution_count": 7,
   "metadata": {},
   "outputs": [],
   "source": [
    "longestmovie = df.head(1)\n",
    "# your code here"
   ]
  },
  {
   "cell_type": "code",
   "execution_count": 8,
   "metadata": {},
   "outputs": [
    {
     "data": {
      "text/html": [
       "<div>\n",
       "<style scoped>\n",
       "    .dataframe tbody tr th:only-of-type {\n",
       "        vertical-align: middle;\n",
       "    }\n",
       "\n",
       "    .dataframe tbody tr th {\n",
       "        vertical-align: top;\n",
       "    }\n",
       "\n",
       "    .dataframe thead th {\n",
       "        text-align: right;\n",
       "    }\n",
       "</style>\n",
       "<table border=\"1\" class=\"dataframe\">\n",
       "  <thead>\n",
       "    <tr style=\"text-align: right;\">\n",
       "      <th></th>\n",
       "      <th>Year</th>\n",
       "      <th>Length</th>\n",
       "      <th>Title</th>\n",
       "      <th>Subject</th>\n",
       "      <th>Actor</th>\n",
       "      <th>Actress</th>\n",
       "      <th>Director</th>\n",
       "      <th>Popularity</th>\n",
       "      <th>Awards</th>\n",
       "    </tr>\n",
       "  </thead>\n",
       "  <tbody>\n",
       "    <tr>\n",
       "      <th>0</th>\n",
       "      <td>1990</td>\n",
       "      <td>111.0</td>\n",
       "      <td>Tie Me Up! Tie Me Down!</td>\n",
       "      <td>Comedy</td>\n",
       "      <td>Banderas, Antonio</td>\n",
       "      <td>Abril, Victoria</td>\n",
       "      <td>Almodóvar, Pedro</td>\n",
       "      <td>68.0</td>\n",
       "      <td>No</td>\n",
       "    </tr>\n",
       "  </tbody>\n",
       "</table>\n",
       "</div>"
      ],
      "text/plain": [
       "   Year  Length                    Title Subject              Actor  \\\n",
       "0  1990   111.0  Tie Me Up! Tie Me Down!  Comedy  Banderas, Antonio   \n",
       "\n",
       "           Actress          Director  Popularity Awards  \n",
       "0  Abril, Victoria  Almodóvar, Pedro        68.0     No  "
      ]
     },
     "execution_count": 8,
     "metadata": {},
     "output_type": "execute_result"
    }
   ],
   "source": [
    "longestmovie"
   ]
  },
  {
   "cell_type": "markdown",
   "metadata": {},
   "source": [
    "2. In which years did Sean Connery star in movies?"
   ]
  },
  {
   "cell_type": "code",
   "execution_count": 9,
   "metadata": {},
   "outputs": [],
   "source": [
    "seanyears = df['Year']\n",
    "# your code here"
   ]
  },
  {
   "cell_type": "code",
   "execution_count": 10,
   "metadata": {},
   "outputs": [
    {
     "data": {
      "text/plain": [
       "0       1990\n",
       "1       1991\n",
       "2       1983\n",
       "3       1979\n",
       "4       1978\n",
       "5       1983\n",
       "6       1984\n",
       "7       1989\n",
       "8       1985\n",
       "9       1990\n",
       "10      1982\n",
       "11      1982\n",
       "12      1966\n",
       "13      1986\n",
       "14      1966\n",
       "15      1985\n",
       "16      1976\n",
       "17      1929\n",
       "18      1963\n",
       "19      1988\n",
       "20      1988\n",
       "21      1981\n",
       "22      1987\n",
       "23      1991\n",
       "24      1988\n",
       "25      1990\n",
       "26      1988\n",
       "27      1980\n",
       "28      1989\n",
       "29      1979\n",
       "        ... \n",
       "1629    1934\n",
       "1630    1932\n",
       "1631    1932\n",
       "1632    1965\n",
       "1633    1991\n",
       "1634    1992\n",
       "1635    1991\n",
       "1636    1939\n",
       "1637    1939\n",
       "1638    1938\n",
       "1639    1990\n",
       "1640    1991\n",
       "1641    1991\n",
       "1642    1992\n",
       "1643    1991\n",
       "1644    1991\n",
       "1645    1934\n",
       "1646    1992\n",
       "1647    1993\n",
       "1648    1991\n",
       "1649    1991\n",
       "1650    1993\n",
       "1651    1992\n",
       "1652    1991\n",
       "1653    1990\n",
       "1654    1932\n",
       "1655    1989\n",
       "1656    1988\n",
       "1657    1977\n",
       "1658    1991\n",
       "Name: Year, Length: 1659, dtype: int64"
      ]
     },
     "execution_count": 10,
     "metadata": {},
     "output_type": "execute_result"
    }
   ],
   "source": [
    "seanyears"
   ]
  },
  {
   "cell_type": "markdown",
   "metadata": {},
   "source": [
    "3. What was the most popular movie in the 1950s? (from 1950 up to 1959, 1960 does not count)"
   ]
  },
  {
   "cell_type": "code",
   "execution_count": 11,
   "metadata": {},
   "outputs": [],
   "source": [
    "mostpopular50s = df.head(1)\n",
    "# your code here"
   ]
  },
  {
   "cell_type": "code",
   "execution_count": 12,
   "metadata": {},
   "outputs": [
    {
     "data": {
      "text/html": [
       "<div>\n",
       "<style scoped>\n",
       "    .dataframe tbody tr th:only-of-type {\n",
       "        vertical-align: middle;\n",
       "    }\n",
       "\n",
       "    .dataframe tbody tr th {\n",
       "        vertical-align: top;\n",
       "    }\n",
       "\n",
       "    .dataframe thead th {\n",
       "        text-align: right;\n",
       "    }\n",
       "</style>\n",
       "<table border=\"1\" class=\"dataframe\">\n",
       "  <thead>\n",
       "    <tr style=\"text-align: right;\">\n",
       "      <th></th>\n",
       "      <th>Year</th>\n",
       "      <th>Length</th>\n",
       "      <th>Title</th>\n",
       "      <th>Subject</th>\n",
       "      <th>Actor</th>\n",
       "      <th>Actress</th>\n",
       "      <th>Director</th>\n",
       "      <th>Popularity</th>\n",
       "      <th>Awards</th>\n",
       "    </tr>\n",
       "  </thead>\n",
       "  <tbody>\n",
       "    <tr>\n",
       "      <th>0</th>\n",
       "      <td>1990</td>\n",
       "      <td>111.0</td>\n",
       "      <td>Tie Me Up! Tie Me Down!</td>\n",
       "      <td>Comedy</td>\n",
       "      <td>Banderas, Antonio</td>\n",
       "      <td>Abril, Victoria</td>\n",
       "      <td>Almodóvar, Pedro</td>\n",
       "      <td>68.0</td>\n",
       "      <td>No</td>\n",
       "    </tr>\n",
       "  </tbody>\n",
       "</table>\n",
       "</div>"
      ],
      "text/plain": [
       "   Year  Length                    Title Subject              Actor  \\\n",
       "0  1990   111.0  Tie Me Up! Tie Me Down!  Comedy  Banderas, Antonio   \n",
       "\n",
       "           Actress          Director  Popularity Awards  \n",
       "0  Abril, Victoria  Almodóvar, Pedro        68.0     No  "
      ]
     },
     "execution_count": 12,
     "metadata": {},
     "output_type": "execute_result"
    }
   ],
   "source": [
    "mostpopular50s"
   ]
  },
  {
   "cell_type": "markdown",
   "metadata": {},
   "source": [
    "4. What is the most popular movie with Nicolas Cage?"
   ]
  },
  {
   "cell_type": "code",
   "execution_count": 13,
   "metadata": {},
   "outputs": [],
   "source": [
    "cage = df.head(1)\n",
    "# your code here"
   ]
  },
  {
   "cell_type": "code",
   "execution_count": 14,
   "metadata": {},
   "outputs": [
    {
     "data": {
      "text/html": [
       "<div>\n",
       "<style scoped>\n",
       "    .dataframe tbody tr th:only-of-type {\n",
       "        vertical-align: middle;\n",
       "    }\n",
       "\n",
       "    .dataframe tbody tr th {\n",
       "        vertical-align: top;\n",
       "    }\n",
       "\n",
       "    .dataframe thead th {\n",
       "        text-align: right;\n",
       "    }\n",
       "</style>\n",
       "<table border=\"1\" class=\"dataframe\">\n",
       "  <thead>\n",
       "    <tr style=\"text-align: right;\">\n",
       "      <th></th>\n",
       "      <th>Year</th>\n",
       "      <th>Length</th>\n",
       "      <th>Title</th>\n",
       "      <th>Subject</th>\n",
       "      <th>Actor</th>\n",
       "      <th>Actress</th>\n",
       "      <th>Director</th>\n",
       "      <th>Popularity</th>\n",
       "      <th>Awards</th>\n",
       "    </tr>\n",
       "  </thead>\n",
       "  <tbody>\n",
       "    <tr>\n",
       "      <th>0</th>\n",
       "      <td>1990</td>\n",
       "      <td>111.0</td>\n",
       "      <td>Tie Me Up! Tie Me Down!</td>\n",
       "      <td>Comedy</td>\n",
       "      <td>Banderas, Antonio</td>\n",
       "      <td>Abril, Victoria</td>\n",
       "      <td>Almodóvar, Pedro</td>\n",
       "      <td>68.0</td>\n",
       "      <td>No</td>\n",
       "    </tr>\n",
       "  </tbody>\n",
       "</table>\n",
       "</div>"
      ],
      "text/plain": [
       "   Year  Length                    Title Subject              Actor  \\\n",
       "0  1990   111.0  Tie Me Up! Tie Me Down!  Comedy  Banderas, Antonio   \n",
       "\n",
       "           Actress          Director  Popularity Awards  \n",
       "0  Abril, Victoria  Almodóvar, Pedro        68.0     No  "
      ]
     },
     "execution_count": 14,
     "metadata": {},
     "output_type": "execute_result"
    }
   ],
   "source": [
    "cage"
   ]
  },
  {
   "cell_type": "markdown",
   "metadata": {},
   "source": [
    "5. Give a list of actresses who starred in movies with Richard Gere"
   ]
  },
  {
   "cell_type": "code",
   "execution_count": 15,
   "metadata": {},
   "outputs": [],
   "source": [
    "actresses = df['Actress']\n",
    "# your code here"
   ]
  },
  {
   "cell_type": "code",
   "execution_count": 16,
   "metadata": {},
   "outputs": [
    {
     "data": {
      "text/plain": [
       "0              Abril, Victoria\n",
       "1              Abril, Victoria\n",
       "2                Adams, Brooke\n",
       "3                Adams, Brooke\n",
       "4                Adams, Brooke\n",
       "5                  Adams, Maud\n",
       "6                  Adams, Maud\n",
       "7                 Adams, Trudy\n",
       "8             Adjani, Isabelle\n",
       "9             Adjani, Isabelle\n",
       "10         Adolphson, Kristina\n",
       "11                Aimee, Anouk\n",
       "12                Aimee, Anouk\n",
       "13                Aimee, Anouk\n",
       "14                Aimee, Anouk\n",
       "15             Aleandro, Norma\n",
       "16           Alexander, Denise\n",
       "17                Algood, Sara\n",
       "18            Allen, Elizabeth\n",
       "19                 Allen, Joan\n",
       "20                Allen, Karen\n",
       "21                Allen, Karen\n",
       "22      Alonso, Maria Conchita\n",
       "23      Alonso, Maria Conchita\n",
       "24      Alonso, Maria Conchita\n",
       "25             Anderson, Erika\n",
       "26                Anderson, Jo\n",
       "27       Anderson, Melissa Sue\n",
       "28            Anderson, Melody\n",
       "29             Andersson, Bibi\n",
       "                 ...          \n",
       "1629                       NaN\n",
       "1630                       NaN\n",
       "1631                       NaN\n",
       "1632                       NaN\n",
       "1633                       NaN\n",
       "1634                       NaN\n",
       "1635                       NaN\n",
       "1636                       NaN\n",
       "1637                       NaN\n",
       "1638                       NaN\n",
       "1639                       NaN\n",
       "1640                       NaN\n",
       "1641                       NaN\n",
       "1642                       NaN\n",
       "1643                       NaN\n",
       "1644                       NaN\n",
       "1645                       NaN\n",
       "1646                       NaN\n",
       "1647                       NaN\n",
       "1648                       NaN\n",
       "1649                       NaN\n",
       "1650                       NaN\n",
       "1651                       NaN\n",
       "1652                       NaN\n",
       "1653                       NaN\n",
       "1654                       NaN\n",
       "1655                       NaN\n",
       "1656                       NaN\n",
       "1657                       NaN\n",
       "1658                       NaN\n",
       "Name: Actress, Length: 1659, dtype: object"
      ]
     },
     "execution_count": 16,
     "metadata": {},
     "output_type": "execute_result"
    }
   ],
   "source": [
    "actresses"
   ]
  },
  {
   "cell_type": "markdown",
   "metadata": {},
   "source": [
    "6. Of the movies that won an award, what is the proportion of the genres (\"Subject\")? What is the most common genre among movies that did not win an award?"
   ]
  },
  {
   "cell_type": "code",
   "execution_count": 17,
   "metadata": {},
   "outputs": [],
   "source": [
    "awardsprop = pd.Series({'Drama': 0.5, 'Comedy': 0.5}, name='Subject')\n",
    "genre = pd.Series({'Horror': 55}, name='Subject')\n",
    "# your code here"
   ]
  },
  {
   "cell_type": "code",
   "execution_count": 18,
   "metadata": {},
   "outputs": [
    {
     "data": {
      "text/plain": [
       "Drama     0.5\n",
       "Comedy    0.5\n",
       "Name: Subject, dtype: float64"
      ]
     },
     "execution_count": 18,
     "metadata": {},
     "output_type": "execute_result"
    }
   ],
   "source": [
    "awardsprop"
   ]
  },
  {
   "cell_type": "code",
   "execution_count": 19,
   "metadata": {},
   "outputs": [
    {
     "data": {
      "text/plain": [
       "Horror    55\n",
       "Name: Subject, dtype: int64"
      ]
     },
     "execution_count": 19,
     "metadata": {},
     "output_type": "execute_result"
    }
   ],
   "source": [
    "genre"
   ]
  },
  {
   "cell_type": "markdown",
   "metadata": {},
   "source": [
    "7. You are a new director and want to pick the genre that gives you the best chance for an award. Which genre has the highest proportion of awards? i.e., for each genre, compute awards_in_genre / total_in_genre"
   ]
  },
  {
   "cell_type": "code",
   "execution_count": 20,
   "metadata": {},
   "outputs": [],
   "source": [
    "bestgenre = pd.Series({'Horror': 0.5}, name='Subject')\n",
    "# your code here"
   ]
  },
  {
   "cell_type": "code",
   "execution_count": 21,
   "metadata": {},
   "outputs": [
    {
     "data": {
      "text/plain": [
       "Horror    0.5\n",
       "Name: Subject, dtype: float64"
      ]
     },
     "execution_count": 21,
     "metadata": {},
     "output_type": "execute_result"
    }
   ],
   "source": [
    "bestgenre"
   ]
  },
  {
   "cell_type": "markdown",
   "metadata": {},
   "source": [
    "8. Have movies become longer over time? Make a scatter plot with year on the x-axis and length on the y-axis. What is the correlation coefficient? Discuss whether you think there is a meaningful association."
   ]
  },
  {
   "cell_type": "code",
   "execution_count": 22,
   "metadata": {},
   "outputs": [],
   "source": [
    "# create scatter plot\n",
    "# your code here"
   ]
  },
  {
   "cell_type": "code",
   "execution_count": 23,
   "metadata": {},
   "outputs": [],
   "source": [
    "corr = 0.5\n",
    "# your code here"
   ]
  },
  {
   "cell_type": "code",
   "execution_count": 24,
   "metadata": {},
   "outputs": [
    {
     "data": {
      "text/plain": [
       "0.5"
      ]
     },
     "execution_count": 24,
     "metadata": {},
     "output_type": "execute_result"
    }
   ],
   "source": [
    "corr"
   ]
  },
  {
   "cell_type": "markdown",
   "metadata": {},
   "source": [
    "9. Think of an interesting question involving two or more variables and answer it with a table or plot."
   ]
  },
  {
   "cell_type": "code",
   "execution_count": 25,
   "metadata": {},
   "outputs": [],
   "source": [
    "# your code here"
   ]
  },
  {
   "cell_type": "code",
   "execution_count": 26,
   "metadata": {},
   "outputs": [],
   "source": [
    "# your code here"
   ]
  }
 ],
 "metadata": {
  "kernelspec": {
   "display_name": "Python 3",
   "language": "python",
   "name": "python3"
  },
  "language_info": {
   "codemirror_mode": {
    "name": "ipython",
    "version": 3
   },
   "file_extension": ".py",
   "mimetype": "text/x-python",
   "name": "python",
   "nbconvert_exporter": "python",
   "pygments_lexer": "ipython3",
   "version": "3.7.3"
  }
 },
 "nbformat": 4,
 "nbformat_minor": 2
}
