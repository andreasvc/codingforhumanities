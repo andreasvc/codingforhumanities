{
 "cells": [
  {
   "cell_type": "markdown",
   "metadata": {},
   "source": [
    "# Python exercises\n",
    "\n",
    "1. Define a function `max()` that takes two numbers as arguments and returns the largest of them. Use the if-then-else construct available in Python. (It is true that Python has the `max()` function built in, but writing it yourself is nevertheless a good exercise).\n",
    "\n",
    "2. Define a function `max_of_three()` that takes three numbers as arguments and returns the largest of them.\n",
    "\n",
    "3. Define a function that computes the length of a given list or string. (It is true that Python has the `len()` function built in, but writing it yourself is nevertheless a good exercise).\n",
    "\n",
    "4. Write a function that takes a character (i.e. a string of length 1) and returns `True` if it is a vowel, `False` otherwise.\n",
    "\n",
    "5. Write a function `translate()` that will translate a text into \"rövarspråket\" (Swedish for \"robber's language\"). That is, double every consonant and place an occurrence of \"o\" in between. For example, `translate(\"this is fun\")` should return the string `\"tothohisos isos fofuunon\".`\n",
    "\n",
    "6. Define a function `sum()` and a function `multiply()` that sums and multiplies (respectively) all the numbers in a list of numbers. For example, `sum([1, 2, 3, 4])` should return `10`, and `multiply([1, 2, 3, 4])` should return `24`.\n",
    "\n",
    "12. Define a procedure `histogram()` that takes a list of integers and prints a histogram to the screen.\n",
    "    For example, `histogram([4, 9, 7])` should print the following:\n",
    "\n",
    "    ```\n",
    "    ****\n",
    "    *********\n",
    "    *******\n",
    "    ```\n",
    "\n",
    "14. Write a program that maps a list of words into a list of integers representing the lengths of the corresponding words.\n",
    "\n",
    "18. A pangram is a sentence that contains all the letters of the English alphabet at least once, for example: \"The quick brown fox jumps over the lazy dog\". Your task here is to write a function to check a sentence to see if it is a pangram or not.\n",
    "\n",
    "19. \"99 Bottles of Beer\" is a traditional song in the United States and Canada.\n",
    "    It is popular to sing on long trips, as it has a very repetitive format which is easy to memorize,\n",
    "    and can take a long time to sing. The song's simple lyrics are as follows:\n",
    "    ```\n",
    "    99 bottles of beer on the wall, 99 bottles of beer.\n",
    "    Take one down, pass it around, 98 bottles of beer on the wall.\n",
    "    ```\n",
    "    The same verse is repeated, each time with one fewer bottle. The song is completed when the singer or singers reach zero. Your task here is write a Python program capable of generating all the verses of the song.\n",
    "\n",
    "\n",
    "Source: https://github.com/jivoi/junky/blob/master/python_simple_ex/README.md"
   ]
  }
 ],
 "metadata": {
  "kernelspec": {
   "display_name": "Python 3",
   "language": "python",
   "name": "python3"
  },
  "language_info": {
   "codemirror_mode": {
    "name": "ipython",
    "version": 3
   },
   "file_extension": ".py",
   "mimetype": "text/x-python",
   "name": "python",
   "nbconvert_exporter": "python",
   "pygments_lexer": "ipython3",
   "version": "3.7.3"
  }
 },
 "nbformat": 4,
 "nbformat_minor": 2
}
