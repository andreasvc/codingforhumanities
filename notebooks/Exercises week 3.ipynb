{
 "cells": [
  {
   "cell_type": "markdown",
   "metadata": {},
   "source": [
    "# Exercises week 3\n",
    "source: 1, 2, 3, and 5 taken from https://github.com/jivoi/junky/blob/master/python_simple_ex/README.md"
   ]
  },
  {
   "cell_type": "markdown",
   "metadata": {},
   "source": [
    "1. Write a function `char_freq()` that takes a string and builds a frequency listing\n",
    "   of the characters contained in it. Represent the frequency listing as a Python dictionary.\n",
    "   Try it with something like `char_freq(\"abbabcbdbabdbdbabababcbcbab\")`."
   ]
  },
  {
   "cell_type": "code",
   "execution_count": null,
   "metadata": {},
   "outputs": [],
   "source": []
  },
  {
   "cell_type": "markdown",
   "metadata": {},
   "source": [
    "2. Write a function `char_freq_table()` that take a file name as argument, builds a frequency listing of the characters contained in the file, and prints a sorted and nicely formatted character frequency table to the screen."
   ]
  },
  {
   "cell_type": "code",
   "execution_count": null,
   "metadata": {},
   "outputs": [],
   "source": []
  },
  {
   "cell_type": "markdown",
   "metadata": {},
   "source": [
    "3. The third person singular verb form in English is distinguished by the suffix `-s`, which is added to the stem of the infinitive form: `run` -> `runs`. A simple set of rules can be given as follows:\n",
    "\n",
    "   1. If the verb ends in `y`, remove it and add `ies`\n",
    "   2. If the verb ends in `o`, `ch`, `s`, `sh`, `x` or `z`, add `es`\n",
    "   3. By default just add `s`\n",
    "   \n",
    "   Your task in this exercise is to define a function `make_3sg_form()` which given a verb in infinitive form returns its third person singular form. Test your function with words like try, brush, run and fix. Note however that the rules must be regarded as heuristic, in the sense that you must not expect them to work for all cases. Tip: Check out the string method [`endswith()`](https://docs.python.org/3/library/stdtypes.html#str.endswith)."
   ]
  },
  {
   "cell_type": "code",
   "execution_count": null,
   "metadata": {},
   "outputs": [],
   "source": []
  },
  {
   "cell_type": "markdown",
   "metadata": {},
   "source": [
    "4. The file `data/romeo-and-juliet-excerpt.txt` contains an excerpt from Act I\n",
    "   of [Shakespeare's Romeo and Juliet](http://www.gutenberg.org/ebooks/1112).\n",
    "   Your mission, should you choose to accept it, is to extract lines of dialogue by each character.\n",
    "   Your function `extract_dialogue()` should take a file name and return a dictionary mapping names\n",
    "   of characters to a list of their lines:\n",
    "   \n",
    "   `{'Samp': [\"Gregory, on my word, we'll not carry coals.\", ...], ...}`.\n",
    "   \n",
    "   1. Note that lines in the file are not necessarily \"lines\" of dialogue, some take up multiple lines in the file due to wrapping. Hint: by splitting on two linebreaks `'\\n\\n'` you can identify paragraph breaks.\n",
    "   2. Except for some lines that are not dialogue which you have to skip over, most paragraphs now start with a character name. Find a way to separate the character and line. Hint: check out the documentation of [.split()](https://docs.python.org/3/library/stdtypes.html#str.split) for helpful optional parameters.\n",
    "   3. Collect the resulting lines in a dictionary. For each character, check if it's not yet in the dictionary and add an empty list if not. Then, append the line of dialogue.\n",
    "   \n",
    "   If your code works well and you're feeling adventurous, try and see if your code can handle the whole play!"
   ]
  },
  {
   "cell_type": "code",
   "execution_count": null,
   "metadata": {},
   "outputs": [],
   "source": []
  },
  {
   "cell_type": "markdown",
   "metadata": {},
   "source": [
    "5. (Optional, very similar to 3.) In English, the present participle is formed by adding the suffix `-ing` to the infinite form: `go` -> `going`. A simple set of heuristic rules can be given as follows:\n",
    "\n",
    "   1. If the verb ends in `e`, drop the `e` and add `ing` (if not exception: be, see, flee, knee, etc.)\n",
    "   2. If the verb ends in `ie`, change `ie` to `y` and add `ing`\n",
    "   3. For words consisting of consonant-vowel-consonant, double the final letter before adding `ing`\n",
    "   4. By default just add `ing`\n",
    "\n",
    "   Your task in this exercise is to define a function `make_ing_form()` which given a verb in infinitive form returns its present participle form. Test your function with words such as lie, see, move and hug. However, you must not expect such simple rules to work for all cases."
   ]
  },
  {
   "cell_type": "code",
   "execution_count": null,
   "metadata": {},
   "outputs": [],
   "source": []
  }
 ],
 "metadata": {
  "kernelspec": {
   "display_name": "Python 3",
   "language": "python",
   "name": "python3"
  },
  "language_info": {
   "codemirror_mode": {
    "name": "ipython",
    "version": 3
   },
   "file_extension": ".py",
   "mimetype": "text/x-python",
   "name": "python",
   "nbconvert_exporter": "python",
   "pygments_lexer": "ipython3",
   "version": "3.7.3"
  }
 },
 "nbformat": 4,
 "nbformat_minor": 2
}
