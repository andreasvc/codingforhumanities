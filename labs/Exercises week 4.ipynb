{
 "cells": [
  {
   "cell_type": "markdown",
   "metadata": {},
   "source": [
    "# Exercises week 4\n",
    "\n",
    "Ex. 2, 3 from https://github.com/jivoi/junky/blob/master/python_simple_ex/README.md\n",
    "\n",
    "You can try your code in these exercises on one of the text files in the `data/` directory that comes with the notebook."
   ]
  },
  {
   "cell_type": "markdown",
   "metadata": {},
   "source": [
    "1. Write a function `search(filename, substr)` that opens and reads a file, and goes through it line by line; if the line contains the string `substr`, it prints the line number and the line. You do not need to tokenize the file. A substring can match any part of the string, including multiple words or parts of words. Make the search case-insensitive."
   ]
  },
  {
   "cell_type": "code",
   "execution_count": null,
   "metadata": {},
   "outputs": [],
   "source": []
  },
  {
   "cell_type": "markdown",
   "metadata": {},
   "source": [
    "2. A *hapax legomenon* (often abbreviated to hapax) is a word which occurs only once (i.e., has a frequency of 1) in either the written record of a language, the works of an author, or in a single text. Define a function `hapax(filename)` that reads the file and returns all its hapaxes as a list. Make sure your program ignores capitalization and punctuation using functions defined in the Chapter 3 notebook."
   ]
  },
  {
   "cell_type": "code",
   "execution_count": null,
   "metadata": {},
   "outputs": [],
   "source": []
  },
  {
   "cell_type": "markdown",
   "metadata": {},
   "source": [
    "3. Write a function `avg_word_len(filnema)` that will calculate the average word length in a text stored in a file (i.e., the sum of all the lengths of the word tokens in the text, divided by the number of word tokens). Apply it to a couple of books and compare them. Re-use the functions for preprocessing from the previous question."
   ]
  },
  {
   "cell_type": "code",
   "execution_count": null,
   "metadata": {},
   "outputs": [],
   "source": []
  }
 ],
 "metadata": {
  "kernelspec": {
   "display_name": "Python 3 (ipykernel)",
   "language": "python",
   "name": "python3"
  },
  "language_info": {
   "codemirror_mode": {
    "name": "ipython",
    "version": 3
   },
   "file_extension": ".py",
   "mimetype": "text/x-python",
   "name": "python",
   "nbconvert_exporter": "python",
   "pygments_lexer": "ipython3",
   "version": "3.10.12"
  }
 },
 "nbformat": 4,
 "nbformat_minor": 4
}
