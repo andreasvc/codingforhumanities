{
 "cells": [
  {
   "cell_type": "markdown",
   "metadata": {},
   "source": [
    "# Exercises week 3\n",
    "source: 1-4 taken from https://github.com/jivoi/junky/blob/master/python_simple_ex/README.md"
   ]
  },
  {
   "cell_type": "markdown",
   "metadata": {},
   "source": [
    "## 1. char_freq\n",
    "Write a function `char_freq()` that takes a string and builds a frequency listing\n",
    "   of the characters contained in it. Represent the frequency listing as a Python dictionary.\n",
    "   Try it with something like `char_freq(\"abbabcbdbabdbdbabababcbcbab\")`."
   ]
  },
  {
   "cell_type": "code",
   "execution_count": null,
   "metadata": {},
   "outputs": [],
   "source": []
  },
  {
   "cell_type": "markdown",
   "metadata": {},
   "source": [
    "## 2. char_freq_table\n",
    "Write a function `char_freq_table()` that takes a string as argument, builds a frequency listing of the characters contained in it, and prints an alphabetically sorted and nicely formatted character frequency table to the screen.\n",
    "\n",
    "Hint: a simlpe way to format a table is to use `'\\t'` to insert a tab-character with variable length between the columns. A better way is to use f-strings, search for \"format width\" on http://zetcode.com/python/fstring/\n",
    "\n",
    "```\n",
    "In [1] char_freq_table(text)\n",
    "Out\n",
    "a     12\n",
    "b      9\n",
    "c    112\n",
    "...\n",
    "```"
   ]
  },
  {
   "cell_type": "code",
   "execution_count": null,
   "metadata": {},
   "outputs": [],
   "source": []
  },
  {
   "cell_type": "markdown",
   "metadata": {},
   "source": [
    "## 3. make_3sg_form\n",
    "The third person singular verb form in English is distinguished by the suffix `-s`, which is added to the stem of the infinitive form: `run` -> `runs`. A simple set of rules can be given as follows:\n",
    "\n",
    "   1. If the verb ends in `y`, remove it and add `ies`\n",
    "   2. If the verb ends in `o`, `ch`, `s`, `sh`, `x` or `z`, add `es`\n",
    "   3. By default just add `s`\n",
    "   \n",
    "   Your task in this exercise is to define a function `make_3sg_form()` which given a verb in infinitive form returns its third person singular form. Test your function with words like try, brush, run and fix. Note however that the rules must be regarded as heuristic, in the sense that you must not expect them to work for all cases. Tip: Check out the string method [.endswith()](https://docs.python.org/3/library/stdtypes.html#str.endswith)."
   ]
  },
  {
   "cell_type": "code",
   "execution_count": null,
   "metadata": {},
   "outputs": [],
   "source": []
  },
  {
   "cell_type": "markdown",
   "metadata": {},
   "source": [
    "## 4. make_ing_form\n",
    "In English, the present participle is formed by adding the suffix `-ing` to the infinite form: `go` -> `going`. A simple set of heuristic rules can be given as follows:\n",
    "\n",
    "   1. If the verb ends in `e`, drop the `e` and add `ing` (if not exception: be, see, flee, knee, etc.)\n",
    "   2. If the verb ends in `ie`, change `ie` to `y` and add `ing`\n",
    "   3. For words consisting of consonant-vowel-consonant, double the final letter before adding `ing`\n",
    "   4. By default just add `ing`\n",
    "\n",
    "   Your task in this exercise is to define a function `make_ing_form()` which given a verb in infinitive form returns its present participle form. Test your function with words such as lie, see, move and hug. However, you must not expect such simple rules to work for all cases."
   ]
  },
  {
   "cell_type": "code",
   "execution_count": null,
   "metadata": {},
   "outputs": [],
   "source": []
  },
  {
   "cell_type": "markdown",
   "metadata": {},
   "source": [
    "## 5. extract_dialogue\n",
    "You are given the an excerpt of Act I of\n",
    "[Shakespeare's Romeo and Juliet](http://www.gutenberg.org/ebooks/1112) in the variable `text`.\n",
    "Your mission, should you choose to accept it, is to extract lines of dialogue by each character. For a given character, we want to have all the lines spoken by the character in a list, so that we can later analyze each character separately.\n",
    "Your function `extract_dialogue(text)` should take a string such as the excerpt as argument and return a dictionary mapping names of characters to a list of their lines:\n",
    "   \n",
    "   `{'Samp': [\"Gregory, on my word, we'll not carry coals.\", ...], ...}`.\n",
    "   \n",
    "   Hints:\n",
    "   1. Note that lines in the excerpt are not necessarily \"lines\" of dialogue, some take up multiple lines in the excerpt due to wrapping. By splitting on two linebreaks `'\\n\\n'` you can identify paragraph breaks.\n",
    "   2. Except for some lines that are not dialogue which you have to skip over, most paragraphs now start with a character name. Find a way to separate the character and line. Check out the documentation of [.split()](https://docs.python.org/3/library/stdtypes.html#str.split) for helpful optional parameters.\n",
    "   3. Collect the resulting lines in a dictionary. For each character, check if it's not yet in the dictionary and add an empty list if not. Then, append the line of dialogue."
   ]
  },
  {
   "cell_type": "code",
   "execution_count": 1,
   "metadata": {},
   "outputs": [],
   "source": [
    "text = \"\"\"ACT I. Scene I.\n",
    "Verona. A public place.\n",
    "\n",
    "Enter Sampson and Gregory (with swords and bucklers) of the house\n",
    "of Capulet.\n",
    "\n",
    "\n",
    "  Samp. Gregory, on my word, we'll not carry coals.\n",
    "\n",
    "  Greg. No, for then we should be colliers.\n",
    "\n",
    "  Samp. I mean, an we be in choler, we'll draw.\n",
    "\n",
    "  Greg. Ay, while you live, draw your neck out of collar.\n",
    "\n",
    "  Samp. I strike quickly, being moved.\n",
    "\n",
    "  Greg. But thou art not quickly moved to strike.\n",
    "\n",
    "  Samp. A dog of the house of Montague moves me.\n",
    "\n",
    "  Greg. To move is to stir, and to be valiant is to stand.\n",
    "    Therefore, if thou art moved, thou runn'st away.\n",
    "\n",
    "  Samp. A dog of that house shall move me to stand. I will take\n",
    "    the wall of any man or maid of Montague's.\n",
    "\n",
    "  Greg. That shows thee a weak slave; for the weakest goes to the\n",
    "    wall.\n",
    "\n",
    "  Samp. 'Tis true; and therefore women, being the weaker vessels,\n",
    "    are ever thrust to the wall. Therefore I will push Montague's men\n",
    "    from the wall and thrust his maids to the wall.\n",
    "\n",
    "  Greg. The quarrel is between our masters and us their men.\n",
    "\n",
    "  Samp. 'Tis all one. I will show myself a tyrant. When I have\n",
    "    fought with the men, I will be cruel with the maids- I will cut off\n",
    "    their heads.\n",
    "\n",
    "  Greg. The heads of the maids?\n",
    "\n",
    "  Samp. Ay, the heads of the maids, or their maidenheads.\n",
    "    Take it in what sense thou wilt.\n",
    "\n",
    "  Greg. They must take it in sense that feel it.\n",
    "\n",
    "  Samp. Me they shall feel while I am able to stand; and 'tis known I\n",
    "    am a pretty piece of flesh.\n",
    "\n",
    "  Greg. 'Tis well thou art not fish; if thou hadst, thou hadst\n",
    "    been poor-John. Draw thy tool! Here comes two of the house of\n",
    "    Montagues.\n",
    "\n",
    "           Enter two other Servingmen [Abram and Balthasar].\n",
    "\n",
    "\n",
    "  Samp. My naked weapon is out. Quarrel! I will back thee.\n",
    "\n",
    "  Greg. How? turn thy back and run?\n",
    "\n",
    "  Samp. Fear me not.\n",
    "\n",
    "  Greg. No, marry. I fear thee!\n",
    "\n",
    "  Samp. Let us take the law of our sides; let them begin.\n",
    "\n",
    "  Greg. I will frown as I pass by, and let them take it as they list.\n",
    "\n",
    "  Samp. Nay, as they dare. I will bite my thumb at them; which is\n",
    "    disgrace to them, if they bear it.\n",
    "\n",
    "  Abr. Do you bite your thumb at us, sir?\n",
    "\n",
    "  Samp. I do bite my thumb, sir.\n",
    "\n",
    "  Abr. Do you bite your thumb at us, sir?\n",
    "\n",
    "  Samp. [aside to Gregory] Is the law of our side if I say ay?\n",
    "\n",
    "  Greg. [aside to Sampson] No.\n",
    "\n",
    "  Samp. No, sir, I do not bite my thumb at you, sir; but I bite my\n",
    "    thumb, sir.\n",
    "\n",
    "  Greg. Do you quarrel, sir?\n",
    "\n",
    "  Abr. Quarrel, sir? No, sir.\n",
    "\n",
    "  Samp. But if you do, sir, am for you. I serve as good a man as\n",
    "    you.\n",
    "\n",
    "  Abr. No better.\n",
    "\n",
    "  Samp. Well, sir.\"\"\""
   ]
  },
  {
   "cell_type": "code",
   "execution_count": null,
   "metadata": {},
   "outputs": [],
   "source": []
  }
 ],
 "metadata": {
  "kernelspec": {
   "display_name": "Python 3",
   "language": "python",
   "name": "python3"
  },
  "language_info": {
   "codemirror_mode": {
    "name": "ipython",
    "version": 3
   },
   "file_extension": ".py",
   "mimetype": "text/x-python",
   "name": "python",
   "nbconvert_exporter": "python",
   "pygments_lexer": "ipython3",
   "version": "3.7.3"
  }
 },
 "nbformat": 4,
 "nbformat_minor": 2
}
