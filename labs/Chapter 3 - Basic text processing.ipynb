{
 "cells": [
  {
   "cell_type": "markdown",
   "metadata": {},
   "source": [
    "# Chapter 3: Basic text processing"
   ]
  },
  {
   "cell_type": "markdown",
   "metadata": {},
   "source": [
    "-- *A Python Course for the Humanities by Folgert Karsdorp and Maarten van Gompel*"
   ]
  },
  {
   "cell_type": "markdown",
   "metadata": {},
   "source": [
    "---"
   ]
  },
  {
   "cell_type": "markdown",
   "metadata": {},
   "source": [
    "The previous chapter has hopefully whet your appetite. In this chapter we will focus on one of the most important tasks in Humanities research: text processing. One of the goals of text processing is to clean up your data as preparation to some kind of data analysis. Another common goal is to convert a given text collection to a different format. In this chapter we will provide you with the necessary tools to work with collections of texts, clean them and perform some rudimentary analyses on them."
   ]
  },
  {
   "cell_type": "code",
   "execution_count": null,
   "metadata": {},
   "outputs": [],
   "source": [
    "# In this notebook, we will work with the following excerpt of a novel:\n",
    "text = \"\"\"Emma by Jane Austen 1816\n",
    "\n",
    "VOLUME I\n",
    "\n",
    "CHAPTER I\n",
    "\n",
    "\n",
    "Emma Woodhouse, handsome, clever, and rich, with a comfortable home\n",
    "and happy disposition, seemed to unite some of the best blessings\n",
    "of existence; and had lived nearly twenty-one years in the world\n",
    "with very little to distress or vex her.\n",
    "\n",
    "She was the youngest of the two daughters of a most affectionate,\n",
    "indulgent father; and had, in consequence of her sister's marriage,\n",
    "been mistress of his house from a very early period.  Her mother\n",
    "had died too long ago for her to have more than an indistinct\n",
    "remembrance of her caresses; and her place had been supplied\n",
    "by an excellent woman as governess, who had fallen little short\n",
    "of a mother in affection.\"\"\""
   ]
  },
  {
   "cell_type": "markdown",
   "metadata": {},
   "source": [
    "---"
   ]
  },
  {
   "cell_type": "markdown",
   "metadata": {},
   "source": [
    "#### Quiz!"
   ]
  },
  {
   "cell_type": "markdown",
   "metadata": {},
   "source": [
    "Just to recap some of the stuff we learnt in the previous chapter. Can you write code that defines the variable `number_of_es` and counts how many times the letter *e* occurs in `text`? (Hint: use a `for` loop and an `if` statement)"
   ]
  },
  {
   "cell_type": "code",
   "execution_count": null,
   "metadata": {},
   "outputs": [],
   "source": [
    "number_of_es = 0\n",
    "# insert your code here\n",
    "\n",
    "# The following test should print True if your code is correct \n",
    "print(number_of_es == 78)"
   ]
  },
  {
   "cell_type": "markdown",
   "metadata": {},
   "source": [
    "---"
   ]
  },
  {
   "cell_type": "markdown",
   "metadata": {},
   "source": [
    "## Writing our first function"
   ]
  },
  {
   "cell_type": "markdown",
   "metadata": {},
   "source": [
    "In the quiz above, you probably wrote a loop that iterates over all characters in `text` and adds 1 to `number_of_es` each time the program finds the letter *e*. Counting objects in a text is a very common thing to do. Therefore, Python provides the convenient method `count`. This method operates on strings (`somestring.count(argument)`) and takes as argument the object you want to count. Using this method, the solution to the quiz above can now be rewritten as follows:"
   ]
  },
  {
   "cell_type": "code",
   "execution_count": null,
   "metadata": {},
   "outputs": [],
   "source": [
    "number_of_es = text.count('e')\n",
    "print(number_of_es)"
   ]
  },
  {
   "cell_type": "markdown",
   "metadata": {},
   "source": [
    "In fact, `count` takes as argument any string you would like to find. We could just as well count how often the determiner `an` occurs:"
   ]
  },
  {
   "cell_type": "code",
   "execution_count": null,
   "metadata": {},
   "outputs": [],
   "source": [
    "print(text.count('an'))"
   ]
  },
  {
   "cell_type": "markdown",
   "metadata": {},
   "source": [
    "The string `an` is found 12 times in our text. Does that mean that the word *an* occurs 12 times in our text? Go ahead. Count it yourself. In fact, *an* occurs only twice... Think about this. Why does Python print 12?\n",
    "\n",
    "If we want to count how often the word *an* occurs in the text and not the string `an`, we could surround *an* with spaces, like the following:"
   ]
  },
  {
   "cell_type": "code",
   "execution_count": null,
   "metadata": {},
   "outputs": [],
   "source": [
    "print(text.count(' an '))"
   ]
  },
  {
   "cell_type": "markdown",
   "metadata": {},
   "source": [
    "Although it gets the job done in this particular case, it is generally not a very solid way of counting words in a text. What if there are instances of *an* not followed by a space for example because they are at the end of a line? Then we would need to query the text multiple times for each possible context of *an*. For that reason, we're going to approach the problem using a different, more sophisticated strategy. \n",
    "\n",
    "Recall from the previous chapter the function `split`. What does this function do? The function `split` operates on a string and splits a string on whitespace (space, tab, end of line) and returns a list of smaller strings (or words):"
   ]
  },
  {
   "cell_type": "code",
   "execution_count": null,
   "metadata": {},
   "outputs": [],
   "source": [
    "print(text.split())"
   ]
  },
  {
   "cell_type": "markdown",
   "metadata": {},
   "source": [
    "---"
   ]
  },
  {
   "cell_type": "markdown",
   "metadata": {},
   "source": [
    "#### Quiz!"
   ]
  },
  {
   "cell_type": "markdown",
   "metadata": {},
   "source": [
    "All the things you have learnt so far should enable you to write code that counts how often a certain item occurs in a list. Write some code that defines the variable `number_of_hits` and counts how often the word *in* (assigned to `item_to_count`) occurs in the the list of words called `words`."
   ]
  },
  {
   "cell_type": "code",
   "execution_count": null,
   "metadata": {},
   "outputs": [],
   "source": [
    "words = text.split()\n",
    "number_of_hits = 0\n",
    "item_to_count = 'in'\n",
    "# insert your code here\n",
    "\n",
    "# The following test should print True if your code is correct \n",
    "print(number_of_hits == 3)"
   ]
  },
  {
   "cell_type": "markdown",
   "metadata": {},
   "source": [
    "---"
   ]
  },
  {
   "cell_type": "markdown",
   "metadata": {},
   "source": [
    "We will go through the previous quiz step by step. We would like to know how often the preposition *in* occurs in our text. As a first step we will split the string `text` into a list of words:"
   ]
  },
  {
   "cell_type": "code",
   "execution_count": null,
   "metadata": {},
   "outputs": [],
   "source": [
    "words = text.split()"
   ]
  },
  {
   "cell_type": "markdown",
   "metadata": {},
   "source": [
    "Next we define a variable `number_of_hits` and set it to zero."
   ]
  },
  {
   "cell_type": "code",
   "execution_count": null,
   "metadata": {},
   "outputs": [],
   "source": [
    "number_of_hits = 0"
   ]
  },
  {
   "cell_type": "markdown",
   "metadata": {},
   "source": [
    "The final step is to loop over all words in `words` and add 1 to `number_of_ins` if we find a word that is equal to `in`:"
   ]
  },
  {
   "cell_type": "code",
   "execution_count": null,
   "metadata": {},
   "outputs": [],
   "source": [
    "item_to_count = 'in'\n",
    "for word in words:\n",
    "    if word == item_to_count:\n",
    "        number_of_hits += 1\n",
    "print(number_of_hits)"
   ]
  },
  {
   "cell_type": "markdown",
   "metadata": {},
   "source": [
    "Now, say we would like to know how often the word *of* occurs in our text. We could adapt the previous lines of code to search for the word *of*, but what if we also would like to count the number of times *the* occurs, and *house* and *had* and... It would be really cumbersome to repeat all these lines of code for each particular search term we have. Programming is supposed to reduce our workload, not increase it. Just like the function `count` for strings, we would like to have a function that operates on lists, takes as argument the object we would like to count and returns the number of times this object occurs in our list.\n",
    "\n",
    "In this and the previous chapter you have already seen lots of functions (e.g., `print`, `len`, `sorted`). A function does something, often based on some argument you pass to it, and may return a result. You are not just limited to using existing functions in the standard library but you can write your own functions.\n",
    "\n",
    "In fact, you *must* write your own functions. Separating your problem into sub-problems and writing a function for each of those is an immensely important part of well-structured programming. Functions are defined using the `def` keyword, they take a name and optionally a number of parameters. \n",
    "\n",
    "    def some_name(optional_parameters):\n",
    "        # code here\n",
    "        return result\n",
    "\n",
    "The `return` statement returns a value back to the caller and immediately ends the execution of the function. \n",
    "\n",
    "Going back to our problem, we want to write a function called `count_in_list`. It takes two arguments: (1) the object we would like to count and (2) the list in which we want to count that object. Let's write down the function definition in Python:\n",
    "\n",
    "    def count_in_list(item_to_count, list_to_search):\n",
    "    \n",
    "Do you understand all the syntax and keywords in the definition above? Now all we need to do is to add the lines of code we wrote before to the body of this function:"
   ]
  },
  {
   "cell_type": "code",
   "execution_count": null,
   "metadata": {},
   "outputs": [],
   "source": [
    "def count_in_list(item_to_count, list_to_search): \n",
    "    number_of_hits = 0                            \n",
    "    for item in list_to_search:                   \n",
    "        if item == item_to_count:                 \n",
    "            number_of_hits += 1                   \n",
    "    return number_of_hits                         "
   ]
  },
  {
   "cell_type": "markdown",
   "metadata": {},
   "source": [
    "All code should be familiar to you, except the `return` keyword. The `return` keyword is there to tell python to return as a result of calling the function the argument `number_of_hits`. OK, let's go through our function one more time, just to make sure you really understand all of it.\n",
    "\n",
    "1. First we define a function using `def` and give it the name `count_in_list` (line 1);\n",
    "2. This function takes two arguments: `item_to_count` and `list_to_search` (line 1);\n",
    "3. Within the function, we define a variable `number_of_hits` and assign to it the value zero (since at that stage we haven't found anything yet (line 2));\n",
    "4. We loop over all words in `list_to_search` (line 3);\n",
    "5. If we find a word that is equal to `item_to_count` (line 4), we add 1 to `number_of_hits` (line 5);\n",
    "6. Return the result of `number_of_hits` (line 6).\n",
    "\n",
    "(Note: this function does exactly what `list.count(elem)` does in a single line, as documented [here](https://docs.python.org/3/library/stdtypes.html#typesseq-common). However, it is useful to understand how it works, as will become clear later).\n",
    "\n",
    "Let's test our little function! We will first count how often the word *an* occurs in our list of words `words`."
   ]
  },
  {
   "cell_type": "code",
   "execution_count": null,
   "metadata": {},
   "outputs": [],
   "source": [
    "print(count_in_list('an', words))"
   ]
  },
  {
   "cell_type": "markdown",
   "metadata": {},
   "source": [
    "---"
   ]
  },
  {
   "cell_type": "markdown",
   "metadata": {},
   "source": [
    "#### Quiz!"
   ]
  },
  {
   "cell_type": "markdown",
   "metadata": {},
   "source": [
    "Using the function we defined, print how often the word *the* occurs in our text"
   ]
  },
  {
   "cell_type": "code",
   "execution_count": null,
   "metadata": {},
   "outputs": [],
   "source": [
    "# insert your code here"
   ]
  },
  {
   "cell_type": "markdown",
   "metadata": {},
   "source": [
    "---"
   ]
  },
  {
   "cell_type": "markdown",
   "metadata": {},
   "source": [
    "## Intermezzo: dictionaries\n",
    "\n",
    "In the previous chapter you have acquainted yourself with the `list` datastructure. A dictionary is another datastructure which can contain multiple items. However, its items consist of keys and values, and the dictionary allows you to look up a *value* given its *key*. It is called a dictionary because internally it is organized in such a way that looking up an item can be done quickly, just as an actual dictionary. Although the name dictionary is a metaphor and the keys and values can be anything, it happens to be very useful when working with words! Let's define one:"
   ]
  },
  {
   "cell_type": "code",
   "execution_count": null,
   "metadata": {},
   "outputs": [],
   "source": [
    "my_dict = {'book': 'physical objects consisting of a number of pages bound together',\n",
    "           'sword': 'a cutting or thrusting weapon that has a long metal blade',\n",
    "           'pie': 'dish baked in pastry-lined pan often with a pastry top'}"
   ]
  },
  {
   "cell_type": "markdown",
   "metadata": {},
   "source": [
    "Take a close look at the new syntax. Notice the curly braces and the colons. Keys are located at the left side of the colon; values at the right side. Key-value pairs (items) are separated by commas. For readability each item is on a separate line, but we could also write the whole dictionary on a single line. (In general, between parentheses and brackets you may always add extra whitespace and newlines to improve readability). To look up the value of a given key, we 'index' the dictionary using that key:"
   ]
  },
  {
   "cell_type": "code",
   "execution_count": null,
   "metadata": {},
   "outputs": [],
   "source": [
    "print(my_dict['sword'])"
   ]
  },
  {
   "cell_type": "markdown",
   "metadata": {},
   "source": [
    "We say 'index', because we use the same syntax with square brackets when indexing lists or strings. The difference is that we don't use a position number to index a dictionary, but a key. Like lists, dictionaries are mutable which means we can add, remove, and change entries.\n",
    "\n",
    "Instead of storing definitions as in an actual dictionary, we can also store other values, such as frequencies. Let's define an empty dictionary and add some words and frequencies to it. Remark the syntax to add a new entry:"
   ]
  },
  {
   "cell_type": "code",
   "execution_count": null,
   "metadata": {},
   "outputs": [],
   "source": [
    "frequencies = {}\n",
    "frequencies['pride'] = 8\n",
    "frequencies['prejudice'] = 9"
   ]
  },
  {
   "cell_type": "markdown",
   "metadata": {},
   "source": [
    "In a way this is similar to what we have seen before when we changed items in our book list. However, instead of using an index to refer to a position, we refer to a key. Can you imagine why this is so useful?\n",
    "\n",
    "Existing items can be changed or removed as follows:"
   ]
  },
  {
   "cell_type": "code",
   "execution_count": null,
   "metadata": {},
   "outputs": [],
   "source": [
    "frequencies['pride'] += 1\n",
    "frequencies.pop('prejudice')  # pop will remove the item and return its value"
   ]
  },
  {
   "cell_type": "markdown",
   "metadata": {},
   "source": [
    "#### Quiz!\n",
    "\n",
    "Update the frequency dictionary with some other words. Try to print out the frequency you gave for one of the words.\n"
   ]
  },
  {
   "cell_type": "code",
   "execution_count": null,
   "metadata": {},
   "outputs": [],
   "source": [
    "# insert your code here"
   ]
  },
  {
   "cell_type": "markdown",
   "metadata": {},
   "source": [
    "### Conditions and loops with dictionaries\n",
    "\n",
    "Just as with lists, we have to take care that items we refer to in a dictionary do actually exist. To check if a key is in a dictionary, we can use the `in` operator:"
   ]
  },
  {
   "cell_type": "code",
   "execution_count": null,
   "metadata": {},
   "outputs": [],
   "source": [
    "if 'pride' in frequencies:\n",
    "    print('Found it !')"
   ]
  },
  {
   "cell_type": "code",
   "execution_count": null,
   "metadata": {},
   "outputs": [],
   "source": [
    "if 'supercalifragilisticexpialidocious' in frequencies:\n",
    "    print('Found it !')"
   ]
  },
  {
   "cell_type": "markdown",
   "metadata": {},
   "source": [
    "If we do not perform this test, we may get a `KeyError`, i.e., a specific error telling us that the dictionary does not have the requested key:"
   ]
  },
  {
   "cell_type": "code",
   "execution_count": null,
   "metadata": {},
   "outputs": [],
   "source": [
    "print(frequencies['supercalifragilisticexpialidocious'])"
   ]
  },
  {
   "cell_type": "markdown",
   "metadata": {},
   "source": [
    "Since dictionaries are iterable objects, we can iterate over its entries just as we can iterate over a list. When we loop over a dictionary, we get the keys of the dictionary:"
   ]
  },
  {
   "cell_type": "code",
   "execution_count": null,
   "metadata": {},
   "outputs": [],
   "source": [
    "for word in frequencies:\n",
    "    print(f'{word} has frequency {frequencies[word]}')"
   ]
  },
  {
   "cell_type": "markdown",
   "metadata": {},
   "source": [
    "Often, we want to know both the key and the value. There is a shortcut to get pairs of `key, value` in a loop:"
   ]
  },
  {
   "cell_type": "code",
   "execution_count": null,
   "metadata": {},
   "outputs": [],
   "source": [
    "for word, freq in frequencies.items():\n",
    "    print(f'{word} has frequency {freq}')"
   ]
  },
  {
   "cell_type": "markdown",
   "metadata": {},
   "source": [
    "#### What we have learnt\n",
    "\n",
    "To finish this section, here is an overview of the new concepts and functions you have learnt. Make sure you understand them all.\n",
    "\n",
    "- Dictionaries: `dict`, `{}`\n",
    "- indexing or accessing keys of dictionaries\n",
    "- adding items to a dictionary\n",
    "- `KeyError`\n",
    "- `key in dict`\n",
    "- `for key in dict`\n",
    "- `for key, value in dict.items()`"
   ]
  },
  {
   "cell_type": "markdown",
   "metadata": {},
   "source": [
    "---"
   ]
  },
  {
   "cell_type": "markdown",
   "metadata": {},
   "source": [
    "## A more general count function\n",
    "\n",
    "Our function `count_in_list` is a convenient piece of code allowing us to easily count how often certain items occur in a given list. Now what if we would like to find out for all words in our text how often they occur. Then it would be still quite cumbersome to call our function for each unique word. We would like to have a function that takes as argument a particular list and counts for each unique item in that list how often it occurs. There are multiple ways of writing such a function. We will show you two ways of doing it."
   ]
  },
  {
   "cell_type": "markdown",
   "metadata": {},
   "source": [
    "### A count function (take 1)"
   ]
  },
  {
   "cell_type": "markdown",
   "metadata": {},
   "source": [
    "We will use a dictionary to write the function `counter` that takes as argument a list and returns a `dict` with a key for each unique item and a value corresponding to the number of times it occurs in the list. We will first write some code without the function declaration. If that works, we will add it, just as before, to the body of a function.\n",
    "\n",
    "We start with defining a variable `counts` which is an empty dictionary:"
   ]
  },
  {
   "cell_type": "code",
   "execution_count": null,
   "metadata": {},
   "outputs": [],
   "source": [
    "counts = {}"
   ]
  },
  {
   "cell_type": "markdown",
   "metadata": {},
   "source": [
    "Next we will loop over all words in our list `words`. For each word, we check whether the dictionary already contains it. If not, we add the word to the dictionary and initialize the count to 0. Then, we add 1 to its value."
   ]
  },
  {
   "cell_type": "code",
   "execution_count": null,
   "metadata": {},
   "outputs": [],
   "source": [
    "for word in words:\n",
    "    if word not in counts:\n",
    "        counts[word] = 0\n",
    "    counts[word] += 1\n",
    "print(counts)"
   ]
  },
  {
   "cell_type": "markdown",
   "metadata": {},
   "source": [
    "Now that our code is working, we can add it to a function. We define the function `counter` using the `def` keyword. It takes one argument (`list_to_search`)."
   ]
  },
  {
   "cell_type": "code",
   "execution_count": null,
   "metadata": {},
   "outputs": [],
   "source": [
    "def counter(list_to_search):\n",
    "    counts = {}\n",
    "    for word in list_to_search:\n",
    "        if word not in counts:\n",
    "            counts[word] = 0\n",
    "        counts[word] += 1\n",
    "    return counts"
   ]
  },
  {
   "cell_type": "markdown",
   "metadata": {},
   "source": [
    "Hopefully we are boring you, but let's go through this function step by step.\n",
    "\n",
    "1. We define a function using `def` and give it the name `counter` (line 1);\n",
    "2. This function takes a single argument `list_to_search` which is the list we want to search through (line 1);\n",
    "3. Next we define a variable `counts` which is an empty dictionary (line 2);\n",
    "4. We loop over all words in `list_to_search` (line 3);\n",
    "6. If the word is not in `counts`, we add the word to the dictionary and assign it the value 0 (line 4-5);\n",
    "5. Now the word is guaranteed to be in `counts`; we look up its current value and add 1 to it (line 6);\n",
    "7. Return the result of counts (line 7);\n",
    "\n",
    "Let's try out our new function!"
   ]
  },
  {
   "cell_type": "code",
   "execution_count": null,
   "metadata": {},
   "outputs": [],
   "source": [
    "print(counter(words))"
   ]
  },
  {
   "cell_type": "markdown",
   "metadata": {},
   "source": [
    "---"
   ]
  },
  {
   "cell_type": "code",
   "execution_count": null,
   "metadata": {},
   "outputs": [],
   "source": [
    "# Excerpt for quiz below. Run this cell before doing the quiz.\n",
    "chapter1 = \"\"\"CHAPTER I\n",
    "\n",
    "\n",
    "Emma Woodhouse, handsome, clever, and rich, with a comfortable home\n",
    "and happy disposition, seemed to unite some of the best blessings\n",
    "of existence; and had lived nearly twenty-one years in the world\n",
    "with very little to distress or vex her.\n",
    "\n",
    "She was the youngest of the two daughters of a most affectionate,\n",
    "indulgent father; and had, in consequence of her sister's marriage,\n",
    "been mistress of his house from a very early period.  Her mother\n",
    "had died too long ago for her to have more than an indistinct\n",
    "remembrance of her caresses; and her place had been supplied\n",
    "by an excellent woman as governess, who had fallen little short\n",
    "of a mother in affection.\n",
    "\n",
    "Sixteen years had Miss Taylor been in Mr. Woodhouse's family,\n",
    "less as a governess than a friend, very fond of both daughters,\n",
    "but particularly of Emma.  Between _them_ it was more the intimacy\n",
    "of sisters.  Even before Miss Taylor had ceased to hold the nominal\n",
    "office of governess, the mildness of her temper had hardly allowed\n",
    "her to impose any restraint; and the shadow of authority being\n",
    "now long passed away, they had been living together as friend and\n",
    "friend very mutually attached, and Emma doing just what she liked;\n",
    "highly esteeming Miss Taylor's judgment, but directed chiefly by\n",
    "her own.\n",
    "\n",
    "The real evils, indeed, of Emma's situation were the power of having\n",
    "rather too much her own way, and a disposition to think a little\n",
    "too well of herself; these were the disadvantages which threatened\n",
    "alloy to her many enjoyments.  The danger, however, was at present\n",
    "so unperceived, that they did not by any means rank as misfortunes\n",
    "with her.\n",
    "\n",
    "Sorrow came--a gentle sorrow--but not at all in the shape of any\n",
    "disagreeable consciousness.--Miss Taylor married.  It was Miss\n",
    "Taylor's loss which first brought grief.  It was on the wedding-day\n",
    "of this beloved friend that Emma first sat in mournful thought\n",
    "of any continuance.  The wedding over, and the bride-people gone,\n",
    "her father and herself were left to dine together, with no prospect\n",
    "of a third to cheer a long evening.  Her father composed himself\n",
    "to sleep after dinner, as usual, and she had then only to sit\n",
    "and think of what she had lost.\n",
    "\n",
    "The event had every promise of happiness for her friend.  Mr. Weston\n",
    "was a man of unexceptionable character, easy fortune, suitable age,\n",
    "and pleasant manners; and there was some satisfaction in considering\n",
    "with what self-denying, generous friendship she had always wished\n",
    "and promoted the match; but it was a black morning's work for her.\n",
    "The want of Miss Taylor would be felt every hour of every day.\n",
    "She recalled her past kindness--the kindness, the affection of sixteen\n",
    "years--how she had taught and how she had played with her from five\n",
    "years old--how she had devoted all her powers to attach and amuse\n",
    "her in health--and how nursed her through the various illnesses\n",
    "of childhood.  A large debt of gratitude was owing here; but the\n",
    "intercourse of the last seven years, the equal footing and perfect\n",
    "unreserve which had soon followed Isabella's marriage, on their\n",
    "being left to each other, was yet a dearer, tenderer recollection.\n",
    "She had been a friend and companion such as few possessed: intelligent,\n",
    "well-informed, useful, gentle, knowing all the ways of the family,\n",
    "interested in all its concerns, and peculiarly interested in herself,\n",
    "in every pleasure, every scheme of hers--one to whom she could speak\n",
    "every thought as it arose, and who had such an affection for her\n",
    "as could never find fault.\n",
    "\n",
    "How was she to bear the change?--It was true that her friend was\n",
    "going only half a mile from them; but Emma was aware that great must\n",
    "be the difference between a Mrs. Weston, only half a mile from them,\n",
    "and a Miss Taylor in the house; and with all her advantages,\n",
    "natural and domestic, she was now in great danger of suffering\n",
    "from intellectual solitude.  She dearly loved her father, but he\n",
    "was no companion for her.  He could not meet her in conversation,\n",
    "rational or playful.\n",
    "\n",
    "The evil of the actual disparity in their ages (and Mr. Woodhouse had\n",
    "not married early) was much increased by his constitution and habits;\n",
    "for having been a valetudinarian all his life, without activity\n",
    "of mind or body, he was a much older man in ways than in years;\n",
    "and though everywhere beloved for the friendliness of his heart\n",
    "and his amiable temper, his talents could not have recommended him\n",
    "at any time.\n",
    "\n",
    "Her sister, though comparatively but little removed by matrimony,\n",
    "being settled in London, only sixteen miles off, was much beyond\n",
    "her daily reach; and many a long October and November evening must\n",
    "be struggled through at Hartfield, before Christmas brought the next\n",
    "visit from Isabella and her husband, and their little children,\n",
    "to fill the house, and give her pleasant society again.\n",
    "\n",
    "Highbury, the large and populous village, almost amounting to a town,\n",
    "to which Hartfield, in spite of its separate lawn, and shrubberies,\n",
    "and name, did really belong, afforded her no equals.  The Woodhouses\n",
    "were first in consequence there.  All looked up to them.  She had\n",
    "many acquaintance in the place, for her father was universally civil,\n",
    "but not one among them who could be accepted in lieu of Miss\n",
    "Taylor for even half a day.  It was a melancholy change; and Emma\n",
    "could not but sigh over it, and wish for impossible things,\n",
    "till her father awoke, and made it necessary to be cheerful.\n",
    "His spirits required support.  He was a nervous man, easily depressed;\n",
    "fond of every body that he was used to, and hating to part with them;\n",
    "hating change of every kind.  Matrimony, as the origin of change,\n",
    "was always disagreeable; and he was by no means yet reconciled\n",
    "to his own daughter's marrying, nor could ever speak of her but\n",
    "with compassion, though it had been entirely a match of affection,\n",
    "when he was now obliged to part with Miss Taylor too; and from\n",
    "his habits of gentle selfishness, and of being never able to\n",
    "suppose that other people could feel differently from himself,\n",
    "he was very much disposed to think Miss Taylor had done as sad\n",
    "a thing for herself as for them, and would have been a great deal\n",
    "happier if she had spent all the rest of her life at Hartfield.\n",
    "Emma smiled and chatted as cheerfully as she could, to keep him\n",
    "from such thoughts; but when tea came, it was impossible for him\n",
    "not to say exactly as he had said at dinner,\n",
    "\n",
    "\"Poor Miss Taylor!--I wish she were here again.  What a pity it\n",
    "is that Mr. Weston ever thought of her!\"\n",
    "\n",
    "\"I cannot agree with you, papa; you know I cannot.  Mr. Weston is such\n",
    "a good-humoured, pleasant, excellent man, that he thoroughly deserves\n",
    "a good wife;--and you would not have had Miss Taylor live with us\n",
    "for ever, and bear all my odd humours, when she might have a house of her own?\"\n",
    "\n",
    "\"A house of her own!--But where is the advantage of a house of her own?\n",
    "This is three times as large.--And you have never any odd humours,\n",
    "my dear.\"\n",
    "\n",
    "\"How often we shall be going to see them, and they coming to see\n",
    "us!--We shall be always meeting! _We_ must begin; we must go and pay\n",
    "wedding visit very soon.\"\n",
    "\n",
    "\"My dear, how am I to get so far? Randalls is such a distance.\n",
    "I could not walk half so far.\"\n",
    "\n",
    "\"No, papa, nobody thought of your walking.  We must go in the carriage,\n",
    "to be sure.\"\n",
    "\n",
    "\"The carriage! But James will not like to put the horses to for\n",
    "such a little way;--and where are the poor horses to be while we\n",
    "are paying our visit?\"\n",
    "\n",
    "\"They are to be put into Mr. Weston's stable, papa.  You know we\n",
    "have settled all that already.  We talked it all over with Mr. Weston\n",
    "last night.  And as for James, you may be very sure he will always like\n",
    "going to Randalls, because of his daughter's being housemaid there.\n",
    "I only doubt whether he will ever take us anywhere else.  That was\n",
    "your doing, papa.  You got Hannah that good place.  Nobody thought\n",
    "of Hannah till you mentioned her--James is so obliged to you!\"\n",
    "\n",
    "\"I am very glad I did think of her.  It was very lucky, for I would\n",
    "not have had poor James think himself slighted upon any account;\n",
    "and I am sure she will make a very good servant: she is a civil,\n",
    "pretty-spoken girl; I have a great opinion of her.  Whenever I see her,\n",
    "she always curtseys and asks me how I do, in a very pretty manner;\n",
    "and when you have had her here to do needlework, I observe she\n",
    "always turns the lock of the door the right way and never bangs it.\n",
    "I am sure she will be an excellent servant; and it will be a great\n",
    "comfort to poor Miss Taylor to have somebody about her that she is\n",
    "used to see.  Whenever James goes over to see his daughter, you know,\n",
    "she will be hearing of us.  He will be able to tell her how we\n",
    "all are.\"\n",
    "\n",
    "Emma spared no exertions to maintain this happier flow of ideas,\n",
    "and hoped, by the help of backgammon, to get her father tolerably\n",
    "through the evening, and be attacked by no regrets but her own.\n",
    "The backgammon-table was placed; but a visitor immediately afterwards\n",
    "walked in and made it unnecessary.\n",
    "\n",
    "Mr. Knightley, a sensible man about seven or eight-and-thirty, was not\n",
    "only a very old and intimate friend of the family, but particularly\n",
    "connected with it, as the elder brother of Isabella's husband.\n",
    "He lived about a mile from Highbury, was a frequent visitor,\n",
    "and always welcome, and at this time more welcome than usual,\n",
    "as coming directly from their mutual connexions in London.  He had\n",
    "returned to a late dinner, after some days' absence, and now walked\n",
    "up to Hartfield to say that all were well in Brunswick Square.\n",
    "It was a happy circumstance, and animated Mr. Woodhouse for some time.\n",
    "Mr. Knightley had a cheerful manner, which always did him good;\n",
    "and his many inquiries after \"poor Isabella\" and her children were\n",
    "answered most satisfactorily.  When this was over, Mr. Woodhouse\n",
    "gratefully observed, \"It is very kind of you, Mr. Knightley, to come\n",
    "out at this late hour to call upon us.  I am afraid you must have\n",
    "had a shocking walk.\"\n",
    "\n",
    "\"Not at all, sir.  It is a beautiful moonlight night; and so mild\n",
    "that I must draw back from your great fire.\"\n",
    "\n",
    "\"But you must have found it very damp and dirty.  I wish you may\n",
    "not catch cold.\"\n",
    "\n",
    "\"Dirty, sir! Look at my shoes.  Not a speck on them.\"\n",
    "\n",
    "\"Well! that is quite surprising, for we have had a vast deal\n",
    "of rain here.  It rained dreadfully hard for half an hour\n",
    "while we were at breakfast.  I wanted them to put off the wedding.\"\n",
    "\n",
    "\"By the bye--I have not wished you joy.  Being pretty well aware\n",
    "of what sort of joy you must both be feeling, I have been in no hurry\n",
    "with my congratulations; but I hope it all went off tolerably well.\n",
    "How did you all behave? Who cried most?\"\n",
    "\n",
    "\"Ah! poor Miss Taylor! 'Tis a sad business.\"\n",
    "\n",
    "\"Poor Mr. and Miss Woodhouse, if you please; but I cannot possibly\n",
    "say `poor Miss Taylor.' I have a great regard for you and Emma;\n",
    "but when it comes to the question of dependence or independence!--At\n",
    "any rate, it must be better to have only one to please than two.\"\n",
    "\n",
    "\"Especially when _one_ of those two is such a fanciful, troublesome creature!\"\n",
    "said Emma playfully.  \"That is what you have in your head,\n",
    "I know--and what you would certainly say if my father were not by.\"\n",
    "\n",
    "\"I believe it is very true, my dear, indeed,\" said Mr. Woodhouse,\n",
    "with a sigh.  \"I am afraid I am sometimes very fanciful and troublesome.\"\n",
    "\n",
    "\"My dearest papa! You do not think I could mean _you_, or suppose\n",
    "Mr. Knightley to mean _you_.  What a horrible idea! Oh no! I meant\n",
    "only myself.  Mr. Knightley loves to find fault with me, you know--\n",
    "in a joke--it is all a joke.  We always say what we like to one another.\"\n",
    "\n",
    "Mr. Knightley, in fact, was one of the few people who could see\n",
    "faults in Emma Woodhouse, and the only one who ever told her of them:\n",
    "and though this was not particularly agreeable to Emma herself,\n",
    "she knew it would be so much less so to her father, that she would\n",
    "not have him really suspect such a circumstance as her not being\n",
    "thought perfect by every body.\n",
    "\n",
    "\"Emma knows I never flatter her,\" said Mr. Knightley, \"but I\n",
    "meant no reflection on any body.  Miss Taylor has been used\n",
    "to have two persons to please; she will now have but one.\n",
    "The chances are that she must be a gainer.\"\n",
    "\n",
    "\"Well,\" said Emma, willing to let it pass--\"you want to hear\n",
    "about the wedding; and I shall be happy to tell you, for we all\n",
    "behaved charmingly.  Every body was punctual, every body in their\n",
    "best looks: not a tear, and hardly a long face to be seen.  Oh no;\n",
    "we all felt that we were going to be only half a mile apart,\n",
    "and were sure of meeting every day.\"\n",
    "\n",
    "\"Dear Emma bears every thing so well,\" said her father.\n",
    "\"But, Mr. Knightley, she is really very sorry to lose poor Miss Taylor,\n",
    "and I am sure she _will_ miss her more than she thinks for.\"\n",
    "\n",
    "Emma turned away her head, divided between tears and smiles.\n",
    "\"It is impossible that Emma should not miss such a companion,\"\n",
    "said Mr. Knightley.  \"We should not like her so well as we do, sir,\n",
    "if we could suppose it; but she knows how much the marriage is to\n",
    "Miss Taylor's advantage; she knows how very acceptable it must be,\n",
    "at Miss Taylor's time of life, to be settled in a home of her own,\n",
    "and how important to her to be secure of a comfortable provision,\n",
    "and therefore cannot allow herself to feel so much pain as pleasure.\n",
    "Every friend of Miss Taylor must be glad to have her so happily\n",
    "married.\"\n",
    "\n",
    "\"And you have forgotten one matter of joy to me,\" said Emma,\n",
    "\"and a very considerable one--that I made the match myself.\n",
    "I made the match, you know, four years ago; and to have it take place,\n",
    "and be proved in the right, when so many people said Mr. Weston would\n",
    "never marry again, may comfort me for any thing.\"\n",
    "\n",
    "Mr. Knightley shook his head at her.  Her father fondly replied,\n",
    "\"Ah! my dear, I wish you would not make matches and foretell things,\n",
    "for whatever you say always comes to pass.  Pray do not make any\n",
    "more matches.\"\n",
    "\n",
    "\"I promise you to make none for myself, papa; but I must, indeed,\n",
    "for other people.  It is the greatest amusement in the world! And\n",
    "after such success, you know!--Every body said that Mr. Weston would\n",
    "never marry again.  Oh dear, no! Mr. Weston, who had been a widower\n",
    "so long, and who seemed so perfectly comfortable without a wife,\n",
    "so constantly occupied either in his business in town or among his\n",
    "friends here, always acceptable wherever he went, always cheerful--\n",
    "Mr. Weston need not spend a single evening in the year alone if he did\n",
    "not like it.  Oh no! Mr. Weston certainly would never marry again.\n",
    "Some people even talked of a promise to his wife on her deathbed,\n",
    "and others of the son and the uncle not letting him.  All manner\n",
    "of solemn nonsense was talked on the subject, but I believed none\n",
    "of it.\n",
    "\n",
    "\"Ever since the day--about four years ago--that Miss Taylor and I\n",
    "met with him in Broadway Lane, when, because it began to drizzle,\n",
    "he darted away with so much gallantry, and borrowed two umbrellas\n",
    "for us from Farmer Mitchell's, I made up my mind on the subject.\n",
    "I planned the match from that hour; and when such success has blessed\n",
    "me in this instance, dear papa, you cannot think that I shall leave\n",
    "off match-making.\"\n",
    "\n",
    "\"I do not understand what you mean by `success,'\" said Mr. Knightley.\n",
    "\"Success supposes endeavour.  Your time has been properly and\n",
    "delicately spent, if you have been endeavouring for the last four\n",
    "years to bring about this marriage.  A worthy employment for a young\n",
    "lady's mind! But if, which I rather imagine, your making the match,\n",
    "as you call it, means only your planning it, your saying to yourself\n",
    "one idle day, `I think it would be a very good thing for Miss Taylor\n",
    "if Mr. Weston were to marry her,' and saying it again to yourself\n",
    "every now and then afterwards, why do you talk of success? Where\n",
    "is your merit? What are you proud of? You made a lucky guess;\n",
    "and _that_ is all that can be said.\"\n",
    "\n",
    "\"And have you never known the pleasure and triumph of a lucky guess?--\n",
    "I pity you.--I thought you cleverer--for, depend upon it a lucky\n",
    "guess is never merely luck.  There is always some talent in it.\n",
    "And as to my poor word `success,' which you quarrel with, I do not\n",
    "know that I am so entirely without any claim to it.  You have drawn\n",
    "two pretty pictures; but I think there may be a third--a something\n",
    "between the do-nothing and the do-all. If I had not promoted Mr. Weston's\n",
    "visits here, and given many little encouragements, and smoothed\n",
    "many little matters, it might not have come to any thing after all.\n",
    "I think you must know Hartfield enough to comprehend that.\"\n",
    "\n",
    "\"A straightforward, open-hearted man like Weston, and a rational,\n",
    "unaffected woman like Miss Taylor, may be safely left to manage their\n",
    "own concerns.  You are more likely to have done harm to yourself,\n",
    "than good to them, by interference.\"\n",
    "\n",
    "\"Emma never thinks of herself, if she can do good to others,\"\n",
    "rejoined Mr. Woodhouse, understanding but in part.  \"But, my dear,\n",
    "pray do not make any more matches; they are silly things, and break up\n",
    "one's family circle grievously.\"\n",
    "\n",
    "\"Only one more, papa; only for Mr. Elton.  Poor Mr. Elton! You\n",
    "like Mr. Elton, papa,--I must look about for a wife for him.\n",
    "There is nobody in Highbury who deserves him--and he has been\n",
    "here a whole year, and has fitted up his house so comfortably,\n",
    "that it would be a shame to have him single any longer--and I thought\n",
    "when he was joining their hands to-day, he looked so very much as if\n",
    "he would like to have the same kind office done for him! I think\n",
    "very well of Mr. Elton, and this is the only way I have of doing\n",
    "him a service.\"\n",
    "\n",
    "\"Mr. Elton is a very pretty young man, to be sure, and a very\n",
    "good young man, and I have a great regard for him.  But if you\n",
    "want to shew him any attention, my dear, ask him to come\n",
    "and dine with us some day.  That will be a much better thing.\n",
    "I dare say Mr. Knightley will be so kind as to meet him.\"\n",
    "\n",
    "\"With a great deal of pleasure, sir, at any time,\" said Mr. Knightley,\n",
    "laughing, \"and I agree with you entirely, that it will be a much\n",
    "better thing.  Invite him to dinner, Emma, and help him to the best\n",
    "of the fish and the chicken, but leave him to chuse his own wife.\n",
    "Depend upon it, a man of six or seven-and-twenty can take care\n",
    "of himself.\"\n",
    "\"\"\""
   ]
  },
  {
   "cell_type": "markdown",
   "metadata": {},
   "source": [
    "#### Quiz!"
   ]
  },
  {
   "cell_type": "markdown",
   "metadata": {},
   "source": [
    "Let's put some of the stuff we learnt so far together. You are given a new excerpt, `chapter1`. Convert it to a list of words and count how often the word *Emma* occurs in the text. Assign the result to the variable `emma_count`"
   ]
  },
  {
   "cell_type": "code",
   "execution_count": null,
   "metadata": {},
   "outputs": [],
   "source": [
    "emma_count = 0\n",
    "# insert you code here\n",
    "\n",
    "# The following test should print True if your code is correct \n",
    "print(emma_count == 13)"
   ]
  },
  {
   "cell_type": "markdown",
   "metadata": {},
   "source": [
    "---"
   ]
  },
  {
   "cell_type": "markdown",
   "metadata": {},
   "source": [
    "### A count function (take 2)"
   ]
  },
  {
   "cell_type": "markdown",
   "metadata": {},
   "source": [
    "Let's train our function writing skills a little more. We are going to write another counting function, this time using a slightly different strategy. Recall our function `count_in_list`. It takes as argument a list and the item we want to count in that list. It returns the number of times this item occurs in the list. If we call this function for each unique word in `words`, we obtain a list of frequencies, quite similar to the one we get from the function `counter`. What would happen if we just call the function `count_in_list` on each word in `words`? "
   ]
  },
  {
   "cell_type": "code",
   "execution_count": null,
   "metadata": {},
   "outputs": [],
   "source": [
    "words = text.split()\n",
    "\n",
    "for word in words:\n",
    "    print(word, count_in_list(word, words))"
   ]
  },
  {
   "cell_type": "markdown",
   "metadata": {},
   "source": [
    "As you can see, we obtain the frequency of each word token in `words`, where we would like to have it only for unique word forms. The challenge is thus to come up with a way to convert our list of words into a structure with solely unique words. For this Python provides a convenient data structure called `set`. It takes as argument some iterable (e.g. a list) and returns a new object containing only unique items:"
   ]
  },
  {
   "cell_type": "code",
   "execution_count": null,
   "metadata": {},
   "outputs": [],
   "source": [
    "x = ['a', 'a', 'b', 'b', 'c', 'c', 'c']\n",
    "unique_x = set(x)\n",
    "print(unique_x)"
   ]
  },
  {
   "cell_type": "markdown",
   "metadata": {},
   "source": [
    "Using `set` we can iterate over all unique words in our word list and print the corresponding frequency:"
   ]
  },
  {
   "cell_type": "code",
   "execution_count": null,
   "metadata": {},
   "outputs": [],
   "source": [
    "unique_words = set(words)\n",
    "for word in unique_words:\n",
    "    print(word, count_in_list(word, words))"
   ]
  },
  {
   "cell_type": "markdown",
   "metadata": {},
   "source": [
    "We wrap the lines of code above into the function `counter2`:"
   ]
  },
  {
   "cell_type": "code",
   "execution_count": null,
   "metadata": {},
   "outputs": [],
   "source": [
    "def counter2(list_to_search):\n",
    "    unique_words = set(list_to_search)\n",
    "    for word in unique_words:\n",
    "        print(word, count_in_list(word, list_to_search))"
   ]
  },
  {
   "cell_type": "markdown",
   "metadata": {},
   "source": [
    "A final check to see whether our function behaves correctly:"
   ]
  },
  {
   "cell_type": "code",
   "execution_count": null,
   "metadata": {},
   "outputs": [],
   "source": [
    "counter2(words)"
   ]
  },
  {
   "cell_type": "markdown",
   "metadata": {},
   "source": [
    "---"
   ]
  },
  {
   "cell_type": "markdown",
   "metadata": {},
   "source": [
    "#### Quiz!"
   ]
  },
  {
   "cell_type": "markdown",
   "metadata": {},
   "source": [
    "We have written two functions `counter` and `counter2`, both used to count for each unique item in a particular list how often it occurs in that list. Can you come up with some pros and cons for each function? Why is `counter2` better than `counter` or why is `counter` better than `counter2`?"
   ]
  },
  {
   "cell_type": "markdown",
   "metadata": {},
   "source": [
    "*Double click this cell and write down your answer.*"
   ]
  },
  {
   "cell_type": "markdown",
   "metadata": {},
   "source": [
    "---"
   ]
  },
  {
   "cell_type": "markdown",
   "metadata": {},
   "source": [
    "## Text clean up"
   ]
  },
  {
   "cell_type": "markdown",
   "metadata": {},
   "source": [
    "In the previous section we wrote code to compute a frequency distribution of the words in a text stored on our computer. The function `split` is a quick and dirty way of splitting a string into a list of words. However, if we look through the frequency distributions, we notice quite an amount of noise. For instance, the pronoun *her* occurs 4 times, but we also find `'her.'` occurring 1 time and the capitalized `'Her'`, also 1 time. Of course we would like to add those counts to that of *her*. The basic tokenization of our text using `split` is fast and simple, but it leaves us with noisy and incorrect frequency distributions.\n",
    "\n",
    "There are essentially two strategies to follow to correct our frequency distributions. The first is to come up with a better procedure of splitting our text into words. The second is to clean-up our text and pass this clean result to the convenient `split` function. For now we will follow the second path.\n",
    "\n",
    "Some words in our text are capitalized. To convert all letters to lower case, Python provides the method `lower`. It operates on strings:"
   ]
  },
  {
   "cell_type": "code",
   "execution_count": null,
   "metadata": {},
   "outputs": [],
   "source": [
    "x = 'Emma'\n",
    "x_lower = x.lower()\n",
    "print(x_lower)"
   ]
  },
  {
   "cell_type": "markdown",
   "metadata": {},
   "source": [
    "We can apply this method to our complete text to obtain a completely lowercased text, using:"
   ]
  },
  {
   "cell_type": "code",
   "execution_count": null,
   "metadata": {},
   "outputs": [],
   "source": [
    "text_lower = text.lower()\n",
    "print(text_lower)"
   ]
  },
  {
   "cell_type": "markdown",
   "metadata": {},
   "source": [
    "This solves our problem with miscounting capitalized words, leaving us with the problem of punctuation. The `replace` method is just what we're looking for. It takes two arguments: (1) the string we would like to find and (2) the string we want to replace the first argument with:"
   ]
  },
  {
   "cell_type": "code",
   "execution_count": null,
   "metadata": {},
   "outputs": [],
   "source": [
    "x = 'Please. remove. all. periods. from. this. sentence.'\n",
    "x = x.replace('.', '')\n",
    "print(x)"
   ]
  },
  {
   "cell_type": "markdown",
   "metadata": {},
   "source": [
    "Notice that we replace all periods with an empty string written as `''`. Replace returns a copy of the string with all occurrences replaced."
   ]
  },
  {
   "cell_type": "markdown",
   "metadata": {},
   "source": [
    "---"
   ]
  },
  {
   "cell_type": "markdown",
   "metadata": {},
   "source": [
    "#### Quiz!"
   ]
  },
  {
   "cell_type": "markdown",
   "metadata": {},
   "source": [
    "Write code to lowercase and remove all commas in the following short text:"
   ]
  },
  {
   "cell_type": "code",
   "execution_count": null,
   "metadata": {},
   "outputs": [],
   "source": [
    "short_text = 'Commas, as it turns out, are terribly overrated.'\n",
    "# insert your code here\n",
    "\n",
    "# The following test should print True if your code is correct \n",
    "print(short_text == 'commas as it turns out are terribly overrated.')"
   ]
  },
  {
   "cell_type": "markdown",
   "metadata": {},
   "source": [
    "---"
   ]
  },
  {
   "cell_type": "markdown",
   "metadata": {},
   "source": [
    "We would like to remove all punctuation from a text, not just periods and commas. We will write a function called `remove_punc` that removes all (simple) punctuation from a text. Again, there are many ways in which we can write this function. We will show you two of them. The first strategy is to repeatedly call `replace` on the same string each time replacing a different punctuation character with an empty string. "
   ]
  },
  {
   "cell_type": "code",
   "execution_count": null,
   "metadata": {},
   "outputs": [],
   "source": [
    "def remove_punc(text):\n",
    "    punctuation = '!@#$%^&*()_-+={}[]:;\"\\'|<>,.?/~`'\n",
    "    for marker in punctuation:\n",
    "        text = text.replace(marker, '')\n",
    "    return text\n",
    "\n",
    "short_text = 'Commas, as it turns out, are overrated. Periods, however, even more so!'\n",
    "print(remove_punc(short_text))"
   ]
  },
  {
   "cell_type": "markdown",
   "metadata": {},
   "source": [
    "The second strategy we will follow is to show you that we can achieve the same result without using the built in function `replace`. Remember that a string consists of characters. We can loop over a string accessing each character in turn. Each time we find a punctuation marker we skip to the next character.\n",
    "\n",
    "We want to collect the resulting characters. However, remember that strings are immutable: we cannot change strings and we wouldn't want to make a new string for every new character we add. Therefore we collect the result as a list of characters. In the end, we convert this list to a new string using ``''.join()``. This joins all the elements of the string together in a single string (optionally with a separator, but for this case we use an empty separator `''`)."
   ]
  },
  {
   "cell_type": "code",
   "execution_count": null,
   "metadata": {},
   "outputs": [],
   "source": [
    "punctuation = '!@#$%^&*()_-+={}[]:;\"\\'|<>,.?/~`'\n",
    "clean_characters = []\n",
    "for character in text:\n",
    "    if character not in punctuation:\n",
    "        clean_characters.append(character)\n",
    "clean_text = ''.join(clean_characters)"
   ]
  },
  {
   "cell_type": "markdown",
   "metadata": {},
   "source": [
    "The code above displays a very common pattern: we start with some collection of items, we want to do something to each item and/or filter the items, and finally the result should be collected in a new list. Therefore Python provides a handy shorthand, which is called a *list comprehension*:"
   ]
  },
  {
   "cell_type": "code",
   "execution_count": null,
   "metadata": {},
   "outputs": [],
   "source": [
    "clean_characters = [character for character in text if character not in punctuation]"
   ]
  },
  {
   "cell_type": "markdown",
   "metadata": {},
   "source": [
    "The square brackets can be left out when a function expects a single, iterable argument. Our new function can now be written as follows:"
   ]
  },
  {
   "cell_type": "code",
   "execution_count": null,
   "metadata": {},
   "outputs": [],
   "source": [
    "def remove_punc2(text):\n",
    "    punctuation = '!@#$%^&*()_-+={}[]:;\"\\'|<>,.?/~`'\n",
    "    return ''.join(character for character in text\n",
    "                   if character not in punctuation)\n",
    "\n",
    "short_text = 'Commas, as it turns out, are overrated. Periods, however, even more so!'\n",
    "print(remove_punc2(short_text))"
   ]
  },
  {
   "cell_type": "markdown",
   "metadata": {},
   "source": [
    "---"
   ]
  },
  {
   "cell_type": "markdown",
   "metadata": {},
   "source": [
    "#### Quiz!"
   ]
  },
  {
   "cell_type": "markdown",
   "metadata": {},
   "source": [
    "1) Can you come up with any pros or cons for each of the two functions above?"
   ]
  },
  {
   "cell_type": "markdown",
   "metadata": {},
   "source": [
    "*Write your answer here* (double click me)"
   ]
  },
  {
   "cell_type": "markdown",
   "metadata": {},
   "source": [
    "2) Now it is time to put everything together. We want to write a function `clean_text` that takes as argument a text represented by string. The function should return this string with all punctuation removed and all characters lowercased."
   ]
  },
  {
   "cell_type": "code",
   "execution_count": null,
   "metadata": {},
   "outputs": [],
   "source": [
    "def clean_text(text):\n",
    "    # insert your code here\n",
    "    \n",
    "# The following test should print True if your code is correct \n",
    "short_text = 'Commas, as it turns out, are overrated. Periods, however, even more so!'\n",
    "print(clean_text(short_text) == \n",
    "      'commas as it turns out are overrated periods however even more so')"
   ]
  },
  {
   "cell_type": "markdown",
   "metadata": {},
   "source": [
    "3) This last excercise puts everything together. We want you to take the excerpt `chapter1`. clean up the text, and recompute the frequency distribution. Assign to `woodhouse_counts` the number of times the name *Woodhouse* occurs in the text."
   ]
  },
  {
   "cell_type": "code",
   "execution_count": null,
   "metadata": {},
   "outputs": [],
   "source": [
    "woodhouse_counts = 0\n",
    "# insert your code here\n",
    "\n",
    "# The following test should print True if your code is correct \n",
    "print(woodhouse_counts == 8)"
   ]
  },
  {
   "cell_type": "markdown",
   "metadata": {},
   "source": [
    "---"
   ]
  },
  {
   "cell_type": "markdown",
   "metadata": {},
   "source": [
    "<p><small><a rel=\"license\" href=\"http://creativecommons.org/licenses/by-sa/4.0/\"><img alt=\"Creative Commons License\" style=\"border-width:0\" src=\"https://i.creativecommons.org/l/by-sa/4.0/88x31.png\" /></a><br /><span xmlns:dct=\"http://purl.org/dc/terms/\" property=\"dct:title\">Python Programming for the Humanities</span> by <a xmlns:cc=\"http://creativecommons.org/ns#\" href=\"http://fbkarsdorp.github.io/python-course\" property=\"cc:attributionName\" rel=\"cc:attributionURL\">http://fbkarsdorp.github.io/python-course</a> is licensed under a <a rel=\"license\" href=\"http://creativecommons.org/licenses/by-sa/4.0/\">Creative Commons Attribution-ShareAlike 4.0 International License</a>. Based on a work at <a xmlns:dct=\"http://purl.org/dc/terms/\" href=\"https://github.com/fbkarsdorp/python-course\" rel=\"dct:source\">https://github.com/fbkarsdorp/python-course</a>.</small></p>"
   ]
  }
 ],
 "metadata": {
  "kernelspec": {
   "display_name": "Python 3",
   "language": "python",
   "name": "python3"
  },
  "language_info": {
   "codemirror_mode": {
    "name": "ipython",
    "version": 3
   },
   "file_extension": ".py",
   "mimetype": "text/x-python",
   "name": "python",
   "nbconvert_exporter": "python",
   "pygments_lexer": "ipython3",
   "version": "3.7.3"
  }
 },
 "nbformat": 4,
 "nbformat_minor": 1
}
