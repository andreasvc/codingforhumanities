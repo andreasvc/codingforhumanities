{
 "cells": [
  {
   "cell_type": "markdown",
   "metadata": {},
   "source": [
    "# Lab week 1 Coding for Humanities: DIY\n",
    "\n",
    "The exercises below are complementary to the materials in Notebook Chapter 1. They are meant as checks for yourself to see if you have understood the programming concepts introduced in the lecture and the first half of Chapter 1.\n",
    "Enter each of the python statements below in a new cell in edit mode (green color). Before running them, try to predict their outcomes."
   ]
  },
  {
   "cell_type": "markdown",
   "metadata": {},
   "source": [
    "I. Numbers, text (strings), manipulations and conversions\n",
    "```python\n",
    "12 + 12\n",
    "10 * 20\n",
    "10 ** 20\n",
    "7/3\n",
    "7//3\n",
    "\"12\" + \"12\"\n",
    "'12' + \"12\"\n",
    "'12' + '12'\n",
    "\"12 + 12\"\n",
    "\"12\" + 12\n",
    "\"12\" + str(12)\n",
    "int(\"12\") + 12\n",
    "\"2\" * \"5\"\n",
    "\"2\" * 5```"
   ]
  },
  {
   "cell_type": "markdown",
   "metadata": {},
   "source": [
    "II. Print statement with numbers, strings, and escape sequences\n",
    "```python\n",
    "print(12)\n",
    "print(\"12\")\n",
    "print(12 + 12)\n",
    "print(\"You're swell!\")\n",
    "print('You're swell!')\n",
    "print('You\\'re swell!')\n",
    "print(\"You\\'re swell!\")\n",
    "print('up\\down')\n",
    "print('up\\\\down')\n",
    "print(\"2798 + 5085 =\", 2798 + 5085)```"
   ]
  },
  {
   "cell_type": "markdown",
   "metadata": {},
   "source": [
    "III. Variables, assignments, and conversions\n",
    "```python\n",
    "x = 5\n",
    "y = 7\n",
    "x / y\n",
    "y // x\n",
    "\n",
    "var1 = 2\n",
    "var2 = \"5\"\n",
    "var1 + var2\n",
    "var1 + int(var2)\n",
    "str(var1) + var2\n",
    "\n",
    "first_name = \"James\"\n",
    "1last_name = \"Bond\"\n",
    "print(last_name + \",\", first_name, last_name + \".\")```"
   ]
  },
  {
   "cell_type": "markdown",
   "metadata": {},
   "source": [
    "IV. Strings and string manipulations\n",
    "```python\n",
    "composer = \"Mozart\"\n",
    "composer + \"is a composer.\"\n",
    "composer + \" is a composer.\"\n",
    "print(composer, \"is a composer.\")\n",
    "composer = \"Beethoven\"\n",
    "\"I don't like \" + composer\n",
    "my_string = \"Hello world!\"\n",
    "my_string[4]\n",
    "my_string[1:4]\n",
    "len(my_string)\n",
    "my_new_string = my_string + \"\\n\" + my_string\n",
    "my_new_string\n",
    "print(my_new_string)```"
   ]
  }
 ],
 "metadata": {
  "kernelspec": {
   "display_name": "Python 3",
   "language": "python",
   "name": "python3"
  },
  "language_info": {
   "codemirror_mode": {
    "name": "ipython",
    "version": 3
   },
   "file_extension": ".py",
   "mimetype": "text/x-python",
   "name": "python",
   "nbconvert_exporter": "python",
   "pygments_lexer": "ipython3",
   "version": "3.7.3"
  }
 },
 "nbformat": 4,
 "nbformat_minor": 2
}
