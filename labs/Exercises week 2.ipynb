{
 "cells": [
  {
   "cell_type": "markdown",
   "metadata": {},
   "source": [
    "# Python exercises\n",
    "\n",
    "In the following exercises, you write a piece of code that takes variables as input, and does something with them. Define the variables taken as input at the start of your code, and print the result at the end:\n",
    "\n",
    "```python\n",
    "a = 12\n",
    "b = 21\n",
    "# do something with a and b\n",
    "result = ...\n",
    "print(result)\n",
    "```\n",
    "Put each exercise in a separate cell.\n",
    "\n",
    "1. Write code that takes two numbers given as the variables `a` and `b` and prints the largest of them. Use the if-then-else construct available in Python. (It is true that Python has the `max()` function built in, but writing it yourself is nevertheless a good exercise).\n",
    "\n",
    "2. Write code that takes three numbers `a`, `b`, and `c`,  and prints the largest of them.\n",
    "\n",
    "3. Write code that computes the length of a given list or string `seq`. (It is true that Python has the `len()` function built in, but writing it yourself is nevertheless a good exercise).\n",
    "\n",
    "4. Write code that takes a character `char` (i.e. a string of length 1) and prints `True` if it is a vowel, `False` otherwise.\n",
    "\n",
    "5. Write code that will translate text given as `text` into \"rövarspråket\" (Swedish for \"robber's language\"). That is, double every consonant and place an occurrence of \"o\" in between. For example, `\"this is fun\"` should print the string `\"tothohisos isos fofunon\".`\n",
    "\n",
    "6. Write code that sums and multiplies all the numbers in a list of numbers. For example, `[1, 2, 3, 4]` should print the sum `10`, and the product (multiplication) `24`.\n",
    "\n",
    "7. Write code that takes a list of integers and prints a histogram to the screen.\n",
    "    For example, `[4, 9, 7]` should print the following:\n",
    "\n",
    "    ```\n",
    "    ****\n",
    "    *********\n",
    "    *******\n",
    "    ```\n",
    "\n",
    "8. Write a program that takes a list of words and produces a list of integers representing the lengths of the corresponding words. For example, `['I', 'am', 'programming']` should give `[1, 2, 11]`.\n",
    "\n",
    "9. A pangram is a sentence that contains all the letters of the English alphabet at least once, for example: `\"The quick brown fox jumps over the lazy dog\"`. Your task here is to write code to check a sentence to see if it is a pangram or not.\n",
    "\n",
    "10. \"99 Bottles of Beer\" is a traditional song in the United States and Canada.\n",
    "    It is popular to sing on long trips, as it has a very repetitive format which is easy to memorize,\n",
    "    and can take a long time to sing. The song's simple lyrics are as follows:\n",
    "    ```\n",
    "    99 bottles of beer on the wall, 99 bottles of beer.\n",
    "    Take one down, pass it around, 98 bottles of beer on the wall.\n",
    "    ```\n",
    "    The same verse is repeated, each time with one fewer bottle. The song is completed when the singer or singers reach zero. Your task here is write a Python program that prints all the verses of the song.\n",
    "\n",
    "\n",
    "Source: https://github.com/jivoi/junky/blob/master/python_simple_ex/README.md"
   ]
  }
 ],
 "metadata": {
  "kernelspec": {
   "display_name": "Python 3",
   "language": "python",
   "name": "python3"
  },
  "language_info": {
   "codemirror_mode": {
    "name": "ipython",
    "version": 3
   },
   "file_extension": ".py",
   "mimetype": "text/x-python",
   "name": "python",
   "nbconvert_exporter": "python",
   "pygments_lexer": "ipython3",
   "version": "3.7.3"
  }
 },
 "nbformat": 4,
 "nbformat_minor": 2
}
